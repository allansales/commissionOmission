{
 "cells": [
  {
   "cell_type": "code",
   "execution_count": 1,
   "metadata": {},
   "outputs": [],
   "source": [
    "import pandas as pd\n",
    "import numpy as np"
   ]
  },
  {
   "cell_type": "code",
   "execution_count": 3,
   "metadata": {},
   "outputs": [
    {
     "data": {
      "text/html": [
       "<div>\n",
       "<style scoped>\n",
       "    .dataframe tbody tr th:only-of-type {\n",
       "        vertical-align: middle;\n",
       "    }\n",
       "\n",
       "    .dataframe tbody tr th {\n",
       "        vertical-align: top;\n",
       "    }\n",
       "\n",
       "    .dataframe thead th {\n",
       "        text-align: right;\n",
       "    }\n",
       "</style>\n",
       "<table border=\"1\" class=\"dataframe\">\n",
       "  <thead>\n",
       "    <tr style=\"text-align: right;\">\n",
       "      <th></th>\n",
       "      <th>authors</th>\n",
       "      <th>date_download</th>\n",
       "      <th>date_modify</th>\n",
       "      <th>date_publish</th>\n",
       "      <th>description</th>\n",
       "      <th>filename</th>\n",
       "      <th>image_url</th>\n",
       "      <th>language</th>\n",
       "      <th>localpath</th>\n",
       "      <th>title</th>\n",
       "      <th>title_page</th>\n",
       "      <th>title_rss</th>\n",
       "      <th>source_domain</th>\n",
       "      <th>text</th>\n",
       "      <th>url</th>\n",
       "    </tr>\n",
       "  </thead>\n",
       "  <tbody>\n",
       "    <tr>\n",
       "      <th>0</th>\n",
       "      <td>Marijuana Policy Project</td>\n",
       "      <td>2020-02-06 16:05:11</td>\n",
       "      <td>2020-02-06 16:05:11</td>\n",
       "      <td>NaN</td>\n",
       "      <td>We Change Laws!</td>\n",
       "      <td>archive_tags_maryland_state_495e9db96843639a15...</td>\n",
       "      <td>https://www.mpp.org/assets/components/phpthumb...</td>\n",
       "      <td>en</td>\n",
       "      <td>/home/allan/news-please-repo//data/2020/02/06/...</td>\n",
       "      <td>Tag: Marylandstatessummary-of-hb0656-and-sb077...</td>\n",
       "      <td>Tag: Marylandstatessummary-of-hb0656-and-sb077...</td>\n",
       "      <td>NULL</td>\n",
       "      <td>mpp.org</td>\n",
       "      <td>Ask your lawmakers to support HB 550.\\nAlthoug...</td>\n",
       "      <td>https://blog.mpp.org/archive/tags/maryland/sta...</td>\n",
       "    </tr>\n",
       "  </tbody>\n",
       "</table>\n",
       "</div>"
      ],
      "text/plain": [
       "                    authors        date_download          date_modify  \\\n",
       "0  Marijuana Policy Project  2020-02-06 16:05:11  2020-02-06 16:05:11   \n",
       "\n",
       "   date_publish      description  \\\n",
       "0           NaN  We Change Laws!   \n",
       "\n",
       "                                            filename  \\\n",
       "0  archive_tags_maryland_state_495e9db96843639a15...   \n",
       "\n",
       "                                           image_url language  \\\n",
       "0  https://www.mpp.org/assets/components/phpthumb...       en   \n",
       "\n",
       "                                           localpath  \\\n",
       "0  /home/allan/news-please-repo//data/2020/02/06/...   \n",
       "\n",
       "                                               title  \\\n",
       "0  Tag: Marylandstatessummary-of-hb0656-and-sb077...   \n",
       "\n",
       "                                          title_page title_rss source_domain  \\\n",
       "0  Tag: Marylandstatessummary-of-hb0656-and-sb077...      NULL       mpp.org   \n",
       "\n",
       "                                                text  \\\n",
       "0  Ask your lawmakers to support HB 550.\\nAlthoug...   \n",
       "\n",
       "                                                 url  \n",
       "0  https://blog.mpp.org/archive/tags/maryland/sta...  "
      ]
     },
     "execution_count": 3,
     "metadata": {},
     "output_type": "execute_result"
    }
   ],
   "source": [
    "pd.read_json(\"../../news-please-repo/data/2020/02/06/blog.mpp.org/archive_tags_maryland_state_495e9db96843639a15d03b1745f01e74__1581005111.html.json\")"
   ]
  },
  {
   "cell_type": "code",
   "execution_count": null,
   "metadata": {},
   "outputs": [],
   "source": [
    "import glob\n",
    "import json\n",
    "\n",
    "glob_data = []\n",
    "for path in path_list:\n",
    "    for file in glob.glob(path):\n",
    "        with open(file) as json_file:\n",
    "            data = json.load(json_file)\n",
    "            glob_data.append(data)\n",
    "\n",
    "df_ab = pd.DataFrame(glob_data)"
   ]
  },
  {
   "cell_type": "code",
   "execution_count": 12,
   "metadata": {},
   "outputs": [],
   "source": [
    "\n",
    "\n",
    "path_list = [\"../../news-please-repo/data/2020/02/06/abort73.com/*.json\"]\n",
    "\n"
   ]
  },
  {
   "cell_type": "code",
   "execution_count": null,
   "metadata": {},
   "outputs": [],
   "source": [
    "\"../../news-please-repo/data/2020/02/06/prochoiceamerica.org/*.json\""
   ]
  },
  {
   "cell_type": "code",
   "execution_count": 13,
   "metadata": {
    "scrolled": true
   },
   "outputs": [
    {
     "data": {
      "text/plain": [
       "'Website Feedback\\nWhat People Are Saying About Abort73...\\n>\\nPage Summary: The following feedback has come to Abort73 through our online questionnaires and general emails. Where known, demographic data is included.\\nTo share your own feedback, click here for an online, submission form.\\nI happened on your site while doing research on the SCOTUS hearings on partial birth this week... I am still in shock and mourning at the outcome of the elections Tuesday. I have also parted ways with my church, who finally came out with a Pro-Choice stand and must say I am inspired by your site. Your research and ability to instantly link others to such a vast amount of research is a beautiful thing. Age: 37\\nSex: Female\\nLocation: Spring Grove, IL\\nDate: November 10, 2006\\nI work at a group home with 14 boys. One of the staff explained abortion to them from the pro-choice stand point and had them vote on weather or not it should be illegal. Only 11 voted. 9 voted that abortion should be legal and 2 that it should be illegal. After that I ordered the Abortion Unfiltered DVD from you guys. I showed it to them and 8 voted that abortion should be illegal in all situations and it is murder. 4 voted that it depends on the situation. 2 were not present... God Bless Your Ministry! It is so easy to change peoples minds with this, we just need more effort. Age: 21\\nSex: Male\\nLocation: Atascadero, CA\\nDate: November 8, 2006\\nI didn\\'t think [abortion] was bad, then I saw the pictures. It makes me cry. Age: 14\\nSex: Female\\nLocation: Milwuakie, OR\\nDate: November 3, 2006\\nAfter learning the truth about what actually happens to these poor and helpless babies, I am 100% against abortion of any kind and for any reason... Without Abort73 I would still be in the dark. Because of Abort73, I have committed myself to the cause of putting abortion to an end. Age: 26\\nSex: Female\\nLocation: Washington\\nDate: November 2, 2006\\nWhen I first found this website I was doing a debate project for school on abortions. I used so much of the sites\\' information and won the debate. I remember that I couldn\\'t show the videos to my classmates because they were graphic but many of them went on this site to see for themselves and ended up in tears, even the guys. Many of the kids in that class who used to be pro-choice switched to pro-life after they heard my debate and saw the videos. I would like to thank everyone who put their time into this website. I will never EVER consider an abortion and I will never let anyone I know get one before they see this site. Age: 14\\nSex: Female\\nDate: October 20, 2006\\nI didn\\'t really have a opinion on abortion until I started a project for school. I was looking it up off of yahoo and came across abort73.com I saw the pictures and read the information and now I am saving up money to buy the shirt. I want to participate in the shirt a day campaign. I have started myspace groups and am working on getting more people involved. Imagine the impact if people just knew what abortion was. Age: 15\\nSex: Female\\nLocation: Vancouver, WA\\nDate: October 18, 2006\\nTo begin I must thank you for the truth-filled informative and compassionate ministry of Abort73.com... I\\'ve had with numerous conversations (8 so far) with people about the meaning of \"Abortion Unfiltered\" and the meaning of \"Abort73.\" Each of those ended in providing a solid (thanks to your ministry website) case for the full humanity of the unborn. Two of those cases resulted in recently pregnant teens aborting their previous decision to abort their unborn babies! Thank you again for standing amidst the crowds of our uninformed culture and providing the truth on abortion in a gracious, even-handed manner with all honor and glory to Christ. Age: 22\\nSex: Male\\nLocation: Garland, TX\\nDate: October 4, 2006\\nI think abortion is the worst thing in the world! Everyone who doesn\\'t agree with me, I just show them the videos on this site and they agree. Nobody has the right to end a human life no matter how small!! Age: 22\\nSex: Male\\nLocation: Winsted, CT\\nDate: September 29, 2006\\nWe have been using pictures we have copied from your site to educate thousands of young people in Secondary Schools and Colleges and the impact has just been equally great. May your kind increase! Age: 30\\nSex: Male\\nLocation: Tema, Ghana\\nDate: September 29, 2006\\n[Abort73.com is] a good reference/resource for those making decisions. As an RN, I didn\\'t get this much info in school and it would have been helpful then. Age: 34\\nSex: Female\\nLocation: Mitchellville, MD\\nDate: September 23, 2006\\nA couple of months ago I had to do a presentation on abortion. I did a search and found your site. At that point, I didn\\'t really have a stand on abortion... I guess I always thought it didn\\'t really matter either way, even though I have been raised with the belief that God knows a child from the womb. I think that your site is absolutely amazing. I feel that it is an extremely important cause, and I\\'m glad that you took the time to put it together. The doctors tried to convince my mother to have an abortion when she was pregnant with my older brother. They said he would be retarded... Well, my mom decided to keep him, and he\\'s a genius. No deformities at all... Aside from the ones a sister may see. Anyway, just a note to say I think you rock! Age: 18\\nSex: Female\\nLocation: Michigan\\nDate: September 19, 2006\\nThank you so much for putting this out there. The horrors of [abortion] need to be known and people need to quit being so ignorant to what is going on. I now have something to stand for...I wish there was more I could do but I\\'m spreading the word quickly about your site!!! Thank you so much! Age: 14\\nSex: Female\\nLocation: Charlotte, NC\\nDate: September 6, 2006\\nI love the site. It\\'s the best abortion site I\\'ve ever come across. Keep up the good work! Age: 16\\nSex: Female\\nLocation: Gillette, WY\\nDate: August 29, 2006\\nI came across your website a couple of days ago and even though I\\'m pro-life already, your site has prompted me to talk about the tragedy of abortion more openly and tell people about your site. Age: 20\\nSex: Female\\nLocation: Beaverton, OR\\nDate: August 28, 2006\\nBecause of your website, I choose not to kill my child. I got pregnant and my husband didn\\'t want a child at the time but after I saw the pictures and the DVD, I made him watch it and he cried and now I have a beautiful baby boy and another baby on the way!!! Age: 20\\nSex: Female\\nLocation: Dade City, FL\\nDate: August 27, 2006\\nThanks to your website, I didn\\'t have an abortion, and I\\'m waiting for my gift from God. Age: 17\\nSex: Female\\nLocation: New Jersey\\nDate: August 24, 2006\\nPeople really have NO idea what goes on during an abortion! When I saw the video on abortion from your website and then I searched more on how I could be involved in making a stop to abortion, I signed up to wear your t-shirts everyday of the week to school. You guys are doing an awesome job and I know that this will make a difference! Age: 18\\nSex: Female\\nLocation: Naples, FL\\nDate: August 6, 2006\\nAbort73.com is the best of every single pro-life site I\\'ve ever been to. I showed your video of \"evidence\" to one of my pro-choice friends, and they couldn\\'t even sit through it, believing it to be fake, as I thought they would. However I noticed once I asked them how they felt about abortion after wards, they replied with a, \"I don\\'t know anymore.\" At least that\\'s something. Age: 17\\nSex: Female\\nLocation: Columbia, MO\\nDate: June 14, 2006\\nAwesome job and keep up the good work. Your website has some of the most logical and well articulated information out there in regards to this battle. I can\\'t tell you how many times I\\'ve used it as a reference in my many arguments on the subject. Keep up the good work! Age: 27\\nSex: Female\\nLocation: Neenah, WI\\nDate: June 10, 2006\\nI showed [your website] to a lot of my friends, and one of them was pregnant, and it changed her mind completely. Age: 13\\nSex: Female\\nLocation: Enfield, CT\\nDate: June 8, 2006\\nPage 22 of 25 pages ‹ First < 20 21 22 23 24 > Last ›'"
      ]
     },
     "execution_count": 13,
     "metadata": {},
     "output_type": "execute_result"
    }
   ],
   "source": [
    "df_ab.iloc[1].text"
   ]
  }
 ],
 "metadata": {
  "kernelspec": {
   "display_name": "Python 3",
   "language": "python",
   "name": "python3"
  },
  "language_info": {
   "codemirror_mode": {
    "name": "ipython",
    "version": 3
   },
   "file_extension": ".py",
   "mimetype": "text/x-python",
   "name": "python",
   "nbconvert_exporter": "python",
   "pygments_lexer": "ipython3",
   "version": "3.7.5"
  }
 },
 "nbformat": 4,
 "nbformat_minor": 2
}
