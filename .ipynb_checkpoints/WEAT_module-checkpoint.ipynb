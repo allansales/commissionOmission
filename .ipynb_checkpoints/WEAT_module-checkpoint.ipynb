{
 "cells": [
  {
   "cell_type": "code",
   "execution_count": 1,
   "metadata": {},
   "outputs": [],
   "source": [
    "import pandas as pd"
   ]
  },
  {
   "cell_type": "raw",
   "metadata": {},
   "source": [
    "calmca - agaist marijuana legalization\n",
    "mpp - pro marijuana legalization\n",
    "prochoice - pro abortion\n",
    "abort73 - against abortion"
   ]
  },
  {
   "cell_type": "markdown",
   "metadata": {},
   "source": [
    "# Data Import"
   ]
  },
  {
   "cell_type": "markdown",
   "metadata": {},
   "source": [
    "## Documents preparation"
   ]
  },
  {
   "cell_type": "markdown",
   "metadata": {},
   "source": [
    "### Arguments reading "
   ]
  },
  {
   "cell_type": "code",
   "execution_count": 2,
   "metadata": {},
   "outputs": [],
   "source": [
    "args_json = pd.read_json(\"crawlers/procon/procon.json\")\n",
    "\n",
    "def format_args_row(row):\n",
    "    df = row.apply(pd.Series).T\n",
    "    df.url = df.url[0]\n",
    "    df.topic = df.topic[0]\n",
    "    return(df)\n",
    "\n",
    "arg_df_series = args_json.apply(format_args_row, axis=1)\n",
    "args_df = pd.concat(arg_df_series.values.tolist(),ignore_index=True)"
   ]
  },
  {
   "cell_type": "code",
   "execution_count": 3,
   "metadata": {},
   "outputs": [],
   "source": [
    "def orientation(pro_con):\n",
    "    if \"Pro\" in pro_con:\n",
    "        return \"Pro\"\n",
    "    return \"Con\"\n",
    "\n",
    "args_df = args_df.assign(argument_orient = args_df.apply(lambda row: orientation(row.pro_con), axis=1))"
   ]
  },
  {
   "cell_type": "markdown",
   "metadata": {},
   "source": [
    "### Documents reading"
   ]
  },
  {
   "cell_type": "markdown",
   "metadata": {},
   "source": [
    "#### Convert from json to dataframe and add the topic and the source stance information "
   ]
  },
  {
   "cell_type": "code",
   "execution_count": 4,
   "metadata": {},
   "outputs": [],
   "source": [
    "import glob\n",
    "import json\n",
    "\n",
    "def create_df(path_list, topic, source_stance):\n",
    "    glob_data = []\n",
    "    for path in path_list:\n",
    "        for file in glob.glob(path):\n",
    "            with open(file) as json_file:\n",
    "                data = json.load(json_file)\n",
    "                glob_data.append(data)\n",
    "\n",
    "        df = pd.DataFrame(glob_data)\n",
    "        df['text_topic'] = topic\n",
    "        df['text_source_stance'] = source_stance\n",
    "    return(df)"
   ]
  },
  {
   "cell_type": "code",
   "execution_count": 5,
   "metadata": {},
   "outputs": [],
   "source": [
    "path_list = [\"../../news-please-repo/data/2020/02/06/abort73.com/*.json\"]\n",
    "topic = \"Abortion\"\n",
    "source_stance = \"Con\"\n",
    "\n",
    "abort73 = create_df(path_list, topic, source_stance)"
   ]
  },
  {
   "cell_type": "code",
   "execution_count": 6,
   "metadata": {},
   "outputs": [],
   "source": [
    "path_list = [\"../../news-please-repo/data/2020/02/06/mpp.org/*.json\",\"../../news-please-repo/data/2020/02/06/blog.mpp.org/*.json\"]\n",
    "topic = \"Marijuana\"\n",
    "source_stance = \"Pro\"\n",
    "\n",
    "mpp = create_df(path_list, topic, source_stance)"
   ]
  },
  {
   "cell_type": "code",
   "execution_count": 7,
   "metadata": {},
   "outputs": [],
   "source": [
    "path_list = [\"../../news-please-repo/data/2020/02/06/prochoiceamerica.org/*.json\"]\n",
    "topic = \"Abortion\"\n",
    "source_stance = \"Pro\"\n",
    "\n",
    "prochoice = create_df(path_list, topic, source_stance)"
   ]
  },
  {
   "cell_type": "code",
   "execution_count": 8,
   "metadata": {},
   "outputs": [],
   "source": [
    "path_list = [\"../../news-please-repo/data/2020/02/06/calmca.org/*.json\"]\n",
    "topic = \"Marijuana\"\n",
    "source_stance = \"Con\"\n",
    "\n",
    "calmca = create_df(path_list, topic, source_stance)"
   ]
  },
  {
   "cell_type": "code",
   "execution_count": 9,
   "metadata": {},
   "outputs": [],
   "source": [
    "document_df = pd.concat([abort73, prochoice, mpp, calmca], ignore_index=True)"
   ]
  },
  {
   "cell_type": "markdown",
   "metadata": {},
   "source": [
    "#### Filter the columns of dataframes to use "
   ]
  },
  {
   "cell_type": "code",
   "execution_count": 10,
   "metadata": {},
   "outputs": [],
   "source": [
    "columns = ['authors', 'date_modify', 'date_publish', 'title', 'source_domain', 'text', 'url', 'text_topic', 'text_source_stance']\n",
    "document_df = pd.DataFrame(document_df, columns=columns)\n",
    "document_df = document_df.rename(columns={\"authors\":\"text_authors\", \"title\":\"text_title\", \"source_domain\":\"text_source_domain\", \"url\":\"text_url\"})"
   ]
  },
  {
   "cell_type": "markdown",
   "metadata": {},
   "source": [
    "### Preprocessing document's and argument's text"
   ]
  },
  {
   "cell_type": "markdown",
   "metadata": {},
   "source": [
    "####  Removing rows which text contains None from the data"
   ]
  },
  {
   "cell_type": "code",
   "execution_count": 11,
   "metadata": {},
   "outputs": [],
   "source": [
    "args_df = args_df[~args_df.argument.isna()]\n",
    "document_df = document_df[~document_df.text.isna()]"
   ]
  },
  {
   "cell_type": "markdown",
   "metadata": {},
   "source": [
    "#### Removing stopwords and measuring the resulting text length "
   ]
  },
  {
   "cell_type": "code",
   "execution_count": 12,
   "metadata": {},
   "outputs": [
    {
     "name": "stderr",
     "output_type": "stream",
     "text": [
      "[nltk_data] Downloading package stopwords to /home/allan/nltk_data...\n",
      "[nltk_data]   Package stopwords is already up-to-date!\n"
     ]
    }
   ],
   "source": [
    "from nltk.corpus import stopwords\n",
    "from nltk import download\n",
    "download('stopwords') \n",
    "\n",
    "stop_words = stopwords.words('english')\n",
    "\n",
    "def preprocess_sentence(str_array):\n",
    "    new_sentences = []\n",
    "    sentences_size = []\n",
    "    for text in str_array:\n",
    "        new_sentence = \"\"\n",
    "        for word in text.split():\n",
    "            if word not in stop_words:\n",
    "                new_sentence += \" \" + word.lower()\n",
    "        sentences_size.append(new_sentence.count(\" \"))\n",
    "        new_sentences.append(new_sentence.strip())\n",
    "        \n",
    "    return(new_sentences, sentences_size)"
   ]
  },
  {
   "cell_type": "code",
   "execution_count": 13,
   "metadata": {},
   "outputs": [],
   "source": [
    "args_df['argument_processed'], args_df['argument_processed_size']  = preprocess_sentence(args_df.argument)\n",
    "document_df['text_processed'], document_df['text_processed_size'] = preprocess_sentence(document_df.text)"
   ]
  },
  {
   "cell_type": "markdown",
   "metadata": {},
   "source": [
    "### Merge documents and arguments by topic "
   ]
  },
  {
   "cell_type": "code",
   "execution_count": 14,
   "metadata": {
    "scrolled": true
   },
   "outputs": [],
   "source": [
    "args_docs = args_df.merge(document_df, left_on=['topic'], right_on=['text_topic'])"
   ]
  },
  {
   "cell_type": "markdown",
   "metadata": {},
   "source": [
    "## Paragraphs preparation"
   ]
  },
  {
   "cell_type": "code",
   "execution_count": 15,
   "metadata": {},
   "outputs": [],
   "source": [
    "wiki_json = pd.read_json(\"crawlers/procon/wiki.json\")"
   ]
  },
  {
   "cell_type": "code",
   "execution_count": 16,
   "metadata": {},
   "outputs": [],
   "source": [
    "# TODO: Add preprocess_sentence in the paragraphs processing\n",
    "def format_wiki_row(row):\n",
    "    df = row.apply(pd.Series).T\n",
    "    df.source = df.source[0]\n",
    "    df.title = df.title[0]\n",
    "    df.topic = df.topic[0]\n",
    "    df.stance = df.stance[0]\n",
    "    df.url = df.url[0]\n",
    "    return(df)\n",
    "\n",
    "wiki_df_series = wiki_json.apply(format_wiki_row, axis=1)\n",
    "wiki_df = pd.concat(wiki_df_series.values.tolist(),ignore_index=True)\n",
    "wiki_df = wiki_df.rename(columns={\"topic\":\"text_topic\", \"title\":\"text_title\", \"content\":\"text\", \"source\":\"text_source_domain\", \"stance\":\"text_source_stance\", \"url\":\"text_url\"})"
   ]
  },
  {
   "cell_type": "code",
   "execution_count": 17,
   "metadata": {},
   "outputs": [],
   "source": [
    "args_prg = args_df.merge(wiki_df, left_on=['topic'], right_on=['text_topic'])"
   ]
  },
  {
   "cell_type": "markdown",
   "metadata": {},
   "source": [
    "# Distance computation"
   ]
  },
  {
   "cell_type": "code",
   "execution_count": 18,
   "metadata": {},
   "outputs": [],
   "source": [
    "from gensim.models import Word2Vec\n",
    "from gensim.models import KeyedVectors"
   ]
  },
  {
   "cell_type": "code",
   "execution_count": 19,
   "metadata": {},
   "outputs": [],
   "source": [
    "model = KeyedVectors.load_word2vec_format('data/model.bin', binary=True)\n",
    "model.init_sims(replace=True)"
   ]
  },
  {
   "cell_type": "code",
   "execution_count": 20,
   "metadata": {},
   "outputs": [
    {
     "name": "stderr",
     "output_type": "stream",
     "text": [
      "/home/allan/anaconda2/lib/python3.7/site-packages/tqdm/std.py:648: FutureWarning: The Panel class is removed from pandas. Accessing it from the top-level namespace will also be removed in the next version\n",
      "  from pandas import Panel\n"
     ]
    }
   ],
   "source": [
    "from tqdm import tqdm\n",
    "import math\n",
    "tqdm.pandas()\n",
    "\n",
    "def wmd_computation(df):\n",
    "    df['wmd'] = df.progress_apply(lambda x: model.wmdistance(x.argument_processed.split(), x.text_processed.split()), axis=1)\n",
    "    df = df.query(\"wmd != \"+str(math.inf))\n",
    "    df = df.assign(wmd_norm = (df.wmd - df.wmd.min()) / (df.wmd.max() - df.wmd.min()))\n",
    "    return(df)"
   ]
  },
  {
   "cell_type": "code",
   "execution_count": 21,
   "metadata": {},
   "outputs": [],
   "source": [
    "#args_prg_dist = wmd_computation(args_prg)"
   ]
  },
  {
   "cell_type": "code",
   "execution_count": 22,
   "metadata": {},
   "outputs": [],
   "source": [
    "#args_prg_dist.to_csv(\"../data/args_prg_dist.csv\", index_label=False)"
   ]
  },
  {
   "cell_type": "code",
   "execution_count": 23,
   "metadata": {},
   "outputs": [
    {
     "name": "stderr",
     "output_type": "stream",
     "text": [
      "/home/allan/.local/lib/python3.7/site-packages/IPython/core/interactiveshell.py:3058: DtypeWarning: Columns (4) have mixed types. Specify dtype option on import or set low_memory=False.\n",
      "  interactivity=interactivity, compiler=compiler, result=result)\n"
     ]
    }
   ],
   "source": [
    "args_prg_dist = pd.read_csv(\"data/args_prg_dist.csv\")"
   ]
  },
  {
   "cell_type": "code",
   "execution_count": 24,
   "metadata": {},
   "outputs": [],
   "source": [
    "#sampled_data = args_docs.sample(4000)\n",
    "#args_docs_dist = wmd_computation(sampled_data)"
   ]
  },
  {
   "cell_type": "code",
   "execution_count": 25,
   "metadata": {},
   "outputs": [],
   "source": [
    "#args_docs_dist.to_csv(\"../data/sampled_args_docs_dist.csv\", index_label=False)"
   ]
  },
  {
   "cell_type": "code",
   "execution_count": 84,
   "metadata": {},
   "outputs": [],
   "source": [
    "args_docs_dist = pd.read_csv(\"data/sampled_args_docs_dist.csv\")"
   ]
  },
  {
   "cell_type": "code",
   "execution_count": 85,
   "metadata": {},
   "outputs": [],
   "source": [
    "count = 0\n",
    "idx = []\n",
    "for txt in args_docs_dist.text:\n",
    "    count += 1\n",
    "    if ((topic == \"Marijuana\") and (\"medic\" in txt)):        \n",
    "        idx.append(count)"
   ]
  },
  {
   "cell_type": "code",
   "execution_count": 86,
   "metadata": {},
   "outputs": [],
   "source": [
    "medic_marijuana_dist = args_docs_dist.iloc[idx]"
   ]
  },
  {
   "cell_type": "code",
   "execution_count": 87,
   "metadata": {},
   "outputs": [],
   "source": [
    "abortion_dist = args_docs_dist[args_docs_dist.text_topic == \"Abortion\"]"
   ]
  },
  {
   "cell_type": "code",
   "execution_count": 88,
   "metadata": {},
   "outputs": [],
   "source": [
    "args_docs_dist = pd.concat([medic_marijuana_dist, abortion_dist])"
   ]
  },
  {
   "cell_type": "markdown",
   "metadata": {},
   "source": [
    "# WEAT"
   ]
  },
  {
   "cell_type": "code",
   "execution_count": 89,
   "metadata": {},
   "outputs": [],
   "source": [
    "from mlxtend.evaluate import permutation_test\n",
    "\n",
    "def weat(dist_df):\n",
    "\n",
    "    # mean distance of each text to each argument (argument - con/pro) set\n",
    "    sim_text_args = dist_df.groupby([\"text\",\"text_topic\",\"text_title\",\"text_source_domain\",\"argument_orient\",\"text_source_stance\"]).wmd_norm.agg(['mean']).reset_index()\n",
    "    sim_text_args = sim_text_args.rename(columns={\"mean\":\"mean_dist\"})\n",
    "\n",
    "    # difference of distance of each paragraph to the attribute sets\n",
    "    con_args = sim_text_args[sim_text_args.argument_orient == \"Con\"]\n",
    "    pro_args = sim_text_args[sim_text_args.argument_orient == \"Pro\"]\n",
    "    sim_text_args = pro_args.merge(con_args, on=[\"text\",\"text_topic\",\"text_title\",\"text_source_domain\",\"text_source_stance\"]).drop(columns=[\"argument_orient_x\", \"argument_orient_y\"])\n",
    "    sim_text_args = sim_text_args.rename(columns={\"mean_dist_x\":\"pro_dist\",\"mean_dist_y\":\"con_dist\"})\n",
    "    sim_text_args[\"diff_dist\"] = sim_text_args.pro_dist - sim_text_args.con_dist\n",
    "\n",
    "    topics = sim_text_args.text_topic.unique()\n",
    "\n",
    "    significance_test_array = []\n",
    "\n",
    "    for topic in topics:\n",
    "        topic_sources = sim_text_args[sim_text_args.text_topic == topic]\n",
    "        sources = topic_sources.text_source_domain.unique()\n",
    "        \n",
    "        for source in sources:\n",
    "            source_a = topic_sources[(topic_sources.text_source_domain == sources[0])]\n",
    "            source_b = topic_sources[(topic_sources.text_source_domain == sources[1])]\n",
    "\n",
    "            p_value = permutation_test(source_b.diff_dist, source_a.diff_dist,\n",
    "                                       method='approximate', num_rounds=1000)\n",
    "            \n",
    "            interpret = source_b.text_source_domain.iloc[0]+\"-Pro x \"+source_a.text_source_domain.iloc[0]+\"-Con\"\n",
    "            if source_b.diff_dist.mean() > source_a.diff_dist.mean():\n",
    "                interpret = source_b.text_source_domain.iloc[0]+\"-Con x \"+source_a.text_source_domain.iloc[0]+\"-Pro\"\n",
    "            \n",
    "            groundtruth = source_b.text_source_domain.iloc[0] + \"-\" + source_b.text_source_stance.iloc[0] + \" x \" + source_a.text_source_domain.iloc[0] +\"-\"+ source_a.text_source_stance.iloc[0]\n",
    "    \n",
    "        significance_test_array.append([topic, p_value, interpret, groundtruth, source_b.diff_dist.mean(), source_a.diff_dist.mean()])\n",
    "    \n",
    "    significance_test_df = pd.DataFrame(significance_test_array, columns=['topic', 'p_value', 'res_interpretation', 'ground_truth','cons_mean_dif', 'rwiki_mean_dif'])\n",
    "    \n",
    "    return(significance_test_df)"
   ]
  },
  {
   "cell_type": "code",
   "execution_count": 90,
   "metadata": {
    "scrolled": true
   },
   "outputs": [
    {
     "name": "stdout",
     "output_type": "stream",
     "text": [
      "['rationalwiki' 'conservapedia']\n",
      "['conservapedia' 'rationalwiki']\n",
      "['rationalwiki' 'conservapedia']\n",
      "['rationalwiki' 'conservapedia']\n",
      "['conservapedia' 'rationalwiki']\n",
      "['rationalwiki' 'conservapedia']\n",
      "['rationalwiki' 'conservapedia']\n",
      "['conservapedia' 'rationalwiki']\n",
      "['rationalwiki' 'conservapedia']\n",
      "['rationalwiki' 'conservapedia']\n",
      "['rationalwiki' 'conservapedia']\n",
      "['rationalwiki' 'conservapedia']\n",
      "['rationalwiki' 'conservapedia']\n",
      "['rationalwiki' 'conservapedia']\n",
      "['rationalwiki' 'conservapedia']\n",
      "['conservapedia' 'rationalwiki']\n"
     ]
    },
    {
     "data": {
      "text/html": [
       "<div>\n",
       "<style scoped>\n",
       "    .dataframe tbody tr th:only-of-type {\n",
       "        vertical-align: middle;\n",
       "    }\n",
       "\n",
       "    .dataframe tbody tr th {\n",
       "        vertical-align: top;\n",
       "    }\n",
       "\n",
       "    .dataframe thead th {\n",
       "        text-align: right;\n",
       "    }\n",
       "</style>\n",
       "<table border=\"1\" class=\"dataframe\">\n",
       "  <thead>\n",
       "    <tr style=\"text-align: right;\">\n",
       "      <th></th>\n",
       "      <th>topic</th>\n",
       "      <th>p_value</th>\n",
       "      <th>res_interpretation</th>\n",
       "      <th>ground_truth</th>\n",
       "      <th>cons_mean_dif</th>\n",
       "      <th>rwiki_mean_dif</th>\n",
       "    </tr>\n",
       "  </thead>\n",
       "  <tbody>\n",
       "    <tr>\n",
       "      <th>0</th>\n",
       "      <td>Health Care Form</td>\n",
       "      <td>0.926</td>\n",
       "      <td>conservapedia-Pro x rationalwiki-Con</td>\n",
       "      <td>conservapedia-Con x rationalwiki-Pro*</td>\n",
       "      <td>-0.007664</td>\n",
       "      <td>-0.007526</td>\n",
       "    </tr>\n",
       "    <tr>\n",
       "      <th>1</th>\n",
       "      <td>Prostitution</td>\n",
       "      <td>0.014</td>\n",
       "      <td>rationalwiki-Pro x conservapedia-Con</td>\n",
       "      <td>rationalwiki-Pro* x conservapedia-Con</td>\n",
       "      <td>0.000779</td>\n",
       "      <td>0.011459</td>\n",
       "    </tr>\n",
       "    <tr>\n",
       "      <th>2</th>\n",
       "      <td>Iraq War</td>\n",
       "      <td>0.000</td>\n",
       "      <td>conservapedia-Pro x rationalwiki-Con</td>\n",
       "      <td>conservapedia-Pro x rationalwiki-Con</td>\n",
       "      <td>-0.004981</td>\n",
       "      <td>0.000782</td>\n",
       "    </tr>\n",
       "    <tr>\n",
       "      <th>3</th>\n",
       "      <td>Gun Control</td>\n",
       "      <td>0.879</td>\n",
       "      <td>conservapedia-Pro x rationalwiki-Con</td>\n",
       "      <td>conservapedia-Con x rationalwiki-Pro</td>\n",
       "      <td>0.010806</td>\n",
       "      <td>0.011382</td>\n",
       "    </tr>\n",
       "    <tr>\n",
       "      <th>4</th>\n",
       "      <td>Abortion</td>\n",
       "      <td>0.000</td>\n",
       "      <td>rationalwiki-Con x conservapedia-Pro</td>\n",
       "      <td>rationalwiki-Pro x conservapedia-Con</td>\n",
       "      <td>-0.001799</td>\n",
       "      <td>-0.007977</td>\n",
       "    </tr>\n",
       "    <tr>\n",
       "      <th>5</th>\n",
       "      <td>Video Games</td>\n",
       "      <td>0.000</td>\n",
       "      <td>conservapedia-Con x rationalwiki-Pro</td>\n",
       "      <td>conservapedia-Con- x rationalwiki-Pro-</td>\n",
       "      <td>0.013261</td>\n",
       "      <td>0.003191</td>\n",
       "    </tr>\n",
       "    <tr>\n",
       "      <th>6</th>\n",
       "      <td>Death Penalty</td>\n",
       "      <td>0.096</td>\n",
       "      <td>conservapedia-Pro x rationalwiki-Con</td>\n",
       "      <td>conservapedia-Pro x rationalwiki-Con</td>\n",
       "      <td>0.002502</td>\n",
       "      <td>0.004459</td>\n",
       "    </tr>\n",
       "    <tr>\n",
       "      <th>7</th>\n",
       "      <td>Marijuana</td>\n",
       "      <td>0.000</td>\n",
       "      <td>rationalwiki-Con x conservapedia-Pro</td>\n",
       "      <td>rationalwiki-Pro x conservapedia-Con</td>\n",
       "      <td>0.020878</td>\n",
       "      <td>0.004745</td>\n",
       "    </tr>\n",
       "    <tr>\n",
       "      <th>8</th>\n",
       "      <td>Minimum Wage</td>\n",
       "      <td>0.026</td>\n",
       "      <td>conservapedia-Pro x rationalwiki-Con</td>\n",
       "      <td>conservapedia-Con x rationalwiki-Pro*</td>\n",
       "      <td>-0.009562</td>\n",
       "      <td>-0.005260</td>\n",
       "    </tr>\n",
       "    <tr>\n",
       "      <th>9</th>\n",
       "      <td>Climate Change</td>\n",
       "      <td>0.178</td>\n",
       "      <td>conservapedia-Con x rationalwiki-Pro</td>\n",
       "      <td>conservapedia-Con- x rationalwiki-Pro-</td>\n",
       "      <td>-0.000310</td>\n",
       "      <td>-0.003468</td>\n",
       "    </tr>\n",
       "    <tr>\n",
       "      <th>10</th>\n",
       "      <td>Euthanasia</td>\n",
       "      <td>0.320</td>\n",
       "      <td>conservapedia-Pro x rationalwiki-Con</td>\n",
       "      <td>conservapedia-Con x rationalwiki-Pro*</td>\n",
       "      <td>0.008276</td>\n",
       "      <td>0.011296</td>\n",
       "    </tr>\n",
       "    <tr>\n",
       "      <th>11</th>\n",
       "      <td>Gay Marriage</td>\n",
       "      <td>0.001</td>\n",
       "      <td>conservapedia-Con x rationalwiki-Pro</td>\n",
       "      <td>conservapedia-Con x rationalwiki-Pro</td>\n",
       "      <td>0.012630</td>\n",
       "      <td>0.002418</td>\n",
       "    </tr>\n",
       "    <tr>\n",
       "      <th>12</th>\n",
       "      <td>Corporal Punishment</td>\n",
       "      <td>0.347</td>\n",
       "      <td>conservapedia-Con x rationalwiki-Pro</td>\n",
       "      <td>conservapedia-Con x rationalwiki-Con</td>\n",
       "      <td>0.019531</td>\n",
       "      <td>0.004719</td>\n",
       "    </tr>\n",
       "    <tr>\n",
       "      <th>13</th>\n",
       "      <td>GMOs</td>\n",
       "      <td>0.002</td>\n",
       "      <td>conservapedia-Pro x rationalwiki-Con</td>\n",
       "      <td>conservapedia-Con* x rationalwiki-Pro*</td>\n",
       "      <td>-0.006295</td>\n",
       "      <td>0.012347</td>\n",
       "    </tr>\n",
       "    <tr>\n",
       "      <th>14</th>\n",
       "      <td>Net Neutrality</td>\n",
       "      <td>0.012</td>\n",
       "      <td>conservapedia-Con x rationalwiki-Pro</td>\n",
       "      <td>conservapedia-Con x rationalwiki-Pro</td>\n",
       "      <td>0.015262</td>\n",
       "      <td>0.002865</td>\n",
       "    </tr>\n",
       "    <tr>\n",
       "      <th>15</th>\n",
       "      <td>School Vouchers</td>\n",
       "      <td>0.226</td>\n",
       "      <td>rationalwiki-Con x conservapedia-Pro</td>\n",
       "      <td>rationalwiki-Pro* x conservapedia-Con*</td>\n",
       "      <td>0.006495</td>\n",
       "      <td>-0.003363</td>\n",
       "    </tr>\n",
       "  </tbody>\n",
       "</table>\n",
       "</div>"
      ],
      "text/plain": [
       "                  topic  p_value                    res_interpretation  \\\n",
       "0      Health Care Form    0.926  conservapedia-Pro x rationalwiki-Con   \n",
       "1          Prostitution    0.014  rationalwiki-Pro x conservapedia-Con   \n",
       "2              Iraq War    0.000  conservapedia-Pro x rationalwiki-Con   \n",
       "3           Gun Control    0.879  conservapedia-Pro x rationalwiki-Con   \n",
       "4              Abortion    0.000  rationalwiki-Con x conservapedia-Pro   \n",
       "5           Video Games    0.000  conservapedia-Con x rationalwiki-Pro   \n",
       "6         Death Penalty    0.096  conservapedia-Pro x rationalwiki-Con   \n",
       "7             Marijuana    0.000  rationalwiki-Con x conservapedia-Pro   \n",
       "8          Minimum Wage    0.026  conservapedia-Pro x rationalwiki-Con   \n",
       "9        Climate Change    0.178  conservapedia-Con x rationalwiki-Pro   \n",
       "10           Euthanasia    0.320  conservapedia-Pro x rationalwiki-Con   \n",
       "11         Gay Marriage    0.001  conservapedia-Con x rationalwiki-Pro   \n",
       "12  Corporal Punishment    0.347  conservapedia-Con x rationalwiki-Pro   \n",
       "13                 GMOs    0.002  conservapedia-Pro x rationalwiki-Con   \n",
       "14       Net Neutrality    0.012  conservapedia-Con x rationalwiki-Pro   \n",
       "15      School Vouchers    0.226  rationalwiki-Con x conservapedia-Pro   \n",
       "\n",
       "                              ground_truth  cons_mean_dif  rwiki_mean_dif  \n",
       "0    conservapedia-Con x rationalwiki-Pro*      -0.007664       -0.007526  \n",
       "1    rationalwiki-Pro* x conservapedia-Con       0.000779        0.011459  \n",
       "2     conservapedia-Pro x rationalwiki-Con      -0.004981        0.000782  \n",
       "3     conservapedia-Con x rationalwiki-Pro       0.010806        0.011382  \n",
       "4     rationalwiki-Pro x conservapedia-Con      -0.001799       -0.007977  \n",
       "5   conservapedia-Con- x rationalwiki-Pro-       0.013261        0.003191  \n",
       "6     conservapedia-Pro x rationalwiki-Con       0.002502        0.004459  \n",
       "7     rationalwiki-Pro x conservapedia-Con       0.020878        0.004745  \n",
       "8    conservapedia-Con x rationalwiki-Pro*      -0.009562       -0.005260  \n",
       "9   conservapedia-Con- x rationalwiki-Pro-      -0.000310       -0.003468  \n",
       "10   conservapedia-Con x rationalwiki-Pro*       0.008276        0.011296  \n",
       "11    conservapedia-Con x rationalwiki-Pro       0.012630        0.002418  \n",
       "12    conservapedia-Con x rationalwiki-Con       0.019531        0.004719  \n",
       "13  conservapedia-Con* x rationalwiki-Pro*      -0.006295        0.012347  \n",
       "14    conservapedia-Con x rationalwiki-Pro       0.015262        0.002865  \n",
       "15  rationalwiki-Pro* x conservapedia-Con*       0.006495       -0.003363  "
      ]
     },
     "execution_count": 90,
     "metadata": {},
     "output_type": "execute_result"
    }
   ],
   "source": [
    "weat(args_prg_dist)"
   ]
  },
  {
   "cell_type": "code",
   "execution_count": 91,
   "metadata": {
    "scrolled": true
   },
   "outputs": [
    {
     "name": "stdout",
     "output_type": "stream",
     "text": [
      "['abort73.com' 'prochoiceamerica.org']\n",
      "['mpp.org']\n"
     ]
    },
    {
     "ename": "IndexError",
     "evalue": "index 1 is out of bounds for axis 0 with size 1",
     "output_type": "error",
     "traceback": [
      "\u001b[0;31m---------------------------------------------------------------------------\u001b[0m",
      "\u001b[0;31mIndexError\u001b[0m                                Traceback (most recent call last)",
      "\u001b[0;32m<ipython-input-91-75355386371e>\u001b[0m in \u001b[0;36m<module>\u001b[0;34m\u001b[0m\n\u001b[0;32m----> 1\u001b[0;31m \u001b[0mweat\u001b[0m\u001b[0;34m(\u001b[0m\u001b[0margs_docs_dist\u001b[0m\u001b[0;34m)\u001b[0m\u001b[0;34m\u001b[0m\u001b[0;34m\u001b[0m\u001b[0m\n\u001b[0m",
      "\u001b[0;32m<ipython-input-89-14fb1a501cff>\u001b[0m in \u001b[0;36mweat\u001b[0;34m(dist_df)\u001b[0m\n\u001b[1;32m     24\u001b[0m         \u001b[0;32mfor\u001b[0m \u001b[0msource\u001b[0m \u001b[0;32min\u001b[0m \u001b[0msources\u001b[0m\u001b[0;34m:\u001b[0m\u001b[0;34m\u001b[0m\u001b[0;34m\u001b[0m\u001b[0m\n\u001b[1;32m     25\u001b[0m             \u001b[0msource_a\u001b[0m \u001b[0;34m=\u001b[0m \u001b[0mtopic_sources\u001b[0m\u001b[0;34m[\u001b[0m\u001b[0;34m(\u001b[0m\u001b[0mtopic_sources\u001b[0m\u001b[0;34m.\u001b[0m\u001b[0mtext_source_domain\u001b[0m \u001b[0;34m==\u001b[0m \u001b[0msources\u001b[0m\u001b[0;34m[\u001b[0m\u001b[0;36m0\u001b[0m\u001b[0;34m]\u001b[0m\u001b[0;34m)\u001b[0m\u001b[0;34m]\u001b[0m\u001b[0;34m\u001b[0m\u001b[0;34m\u001b[0m\u001b[0m\n\u001b[0;32m---> 26\u001b[0;31m             \u001b[0msource_b\u001b[0m \u001b[0;34m=\u001b[0m \u001b[0mtopic_sources\u001b[0m\u001b[0;34m[\u001b[0m\u001b[0;34m(\u001b[0m\u001b[0mtopic_sources\u001b[0m\u001b[0;34m.\u001b[0m\u001b[0mtext_source_domain\u001b[0m \u001b[0;34m==\u001b[0m \u001b[0msources\u001b[0m\u001b[0;34m[\u001b[0m\u001b[0;36m1\u001b[0m\u001b[0;34m]\u001b[0m\u001b[0;34m)\u001b[0m\u001b[0;34m]\u001b[0m\u001b[0;34m\u001b[0m\u001b[0;34m\u001b[0m\u001b[0m\n\u001b[0m\u001b[1;32m     27\u001b[0m \u001b[0;34m\u001b[0m\u001b[0m\n\u001b[1;32m     28\u001b[0m             p_value = permutation_test(source_b.diff_dist, source_a.diff_dist,\n",
      "\u001b[0;31mIndexError\u001b[0m: index 1 is out of bounds for axis 0 with size 1"
     ]
    }
   ],
   "source": [
    "weat(args_docs_dist)"
   ]
  },
  {
   "cell_type": "code",
   "execution_count": null,
   "metadata": {},
   "outputs": [],
   "source": []
  }
 ],
 "metadata": {
  "kernelspec": {
   "display_name": "Python 3",
   "language": "python",
   "name": "python3"
  },
  "language_info": {
   "codemirror_mode": {
    "name": "ipython",
    "version": 3
   },
   "file_extension": ".py",
   "mimetype": "text/x-python",
   "name": "python",
   "nbconvert_exporter": "python",
   "pygments_lexer": "ipython3",
   "version": "3.7.5"
  }
 },
 "nbformat": 4,
 "nbformat_minor": 2
}
