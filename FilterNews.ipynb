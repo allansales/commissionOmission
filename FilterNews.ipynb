{
 "cells": [
  {
   "cell_type": "code",
   "execution_count": 1,
   "metadata": {},
   "outputs": [],
   "source": [
    "import pandas as pd\n",
    "import numpy as np"
   ]
  },
  {
   "cell_type": "code",
   "execution_count": 3,
   "metadata": {},
   "outputs": [
    {
     "data": {
      "text/html": [
       "<div>\n",
       "<style scoped>\n",
       "    .dataframe tbody tr th:only-of-type {\n",
       "        vertical-align: middle;\n",
       "    }\n",
       "\n",
       "    .dataframe tbody tr th {\n",
       "        vertical-align: top;\n",
       "    }\n",
       "\n",
       "    .dataframe thead th {\n",
       "        text-align: right;\n",
       "    }\n",
       "</style>\n",
       "<table border=\"1\" class=\"dataframe\">\n",
       "  <thead>\n",
       "    <tr style=\"text-align: right;\">\n",
       "      <th></th>\n",
       "      <th>authors</th>\n",
       "      <th>date_download</th>\n",
       "      <th>date_modify</th>\n",
       "      <th>date_publish</th>\n",
       "      <th>description</th>\n",
       "      <th>filename</th>\n",
       "      <th>image_url</th>\n",
       "      <th>language</th>\n",
       "      <th>localpath</th>\n",
       "      <th>title</th>\n",
       "      <th>title_page</th>\n",
       "      <th>title_rss</th>\n",
       "      <th>source_domain</th>\n",
       "      <th>text</th>\n",
       "      <th>url</th>\n",
       "    </tr>\n",
       "  </thead>\n",
       "  <tbody>\n",
       "    <tr>\n",
       "      <th>0</th>\n",
       "      <td>Marijuana Policy Project</td>\n",
       "      <td>2020-02-06 16:05:11</td>\n",
       "      <td>2020-02-06 16:05:11</td>\n",
       "      <td>NaN</td>\n",
       "      <td>We Change Laws!</td>\n",
       "      <td>archive_tags_maryland_state_495e9db96843639a15...</td>\n",
       "      <td>https://www.mpp.org/assets/components/phpthumb...</td>\n",
       "      <td>en</td>\n",
       "      <td>/home/allan/news-please-repo//data/2020/02/06/...</td>\n",
       "      <td>Tag: Marylandstatessummary-of-hb0656-and-sb077...</td>\n",
       "      <td>Tag: Marylandstatessummary-of-hb0656-and-sb077...</td>\n",
       "      <td>NULL</td>\n",
       "      <td>mpp.org</td>\n",
       "      <td>Ask your lawmakers to support HB 550.\\nAlthoug...</td>\n",
       "      <td>https://blog.mpp.org/archive/tags/maryland/sta...</td>\n",
       "    </tr>\n",
       "  </tbody>\n",
       "</table>\n",
       "</div>"
      ],
      "text/plain": [
       "                    authors        date_download          date_modify  \\\n",
       "0  Marijuana Policy Project  2020-02-06 16:05:11  2020-02-06 16:05:11   \n",
       "\n",
       "   date_publish      description  \\\n",
       "0           NaN  We Change Laws!   \n",
       "\n",
       "                                            filename  \\\n",
       "0  archive_tags_maryland_state_495e9db96843639a15...   \n",
       "\n",
       "                                           image_url language  \\\n",
       "0  https://www.mpp.org/assets/components/phpthumb...       en   \n",
       "\n",
       "                                           localpath  \\\n",
       "0  /home/allan/news-please-repo//data/2020/02/06/...   \n",
       "\n",
       "                                               title  \\\n",
       "0  Tag: Marylandstatessummary-of-hb0656-and-sb077...   \n",
       "\n",
       "                                          title_page title_rss source_domain  \\\n",
       "0  Tag: Marylandstatessummary-of-hb0656-and-sb077...      NULL       mpp.org   \n",
       "\n",
       "                                                text  \\\n",
       "0  Ask your lawmakers to support HB 550.\\nAlthoug...   \n",
       "\n",
       "                                                 url  \n",
       "0  https://blog.mpp.org/archive/tags/maryland/sta...  "
      ]
     },
     "execution_count": 3,
     "metadata": {},
     "output_type": "execute_result"
    }
   ],
   "source": [
    "pd.read_json(\"../../news-please-repo/data/2020/02/06/blog.mpp.org/archive_tags_maryland_state_495e9db96843639a15d03b1745f01e74__1581005111.html.json\")"
   ]
  },
  {
   "cell_type": "code",
   "execution_count": 14,
   "metadata": {},
   "outputs": [],
   "source": [
    "import glob\n",
    "import json\n",
    "\n",
    "def import_data(path_list):\n",
    "    glob_data = []\n",
    "    for path in path_list:\n",
    "        for file in glob.glob(path):\n",
    "            with open(file) as json_file:\n",
    "                data = json.load(json_file)\n",
    "                glob_data.append(data)\n",
    "\n",
    "    return(pd.DataFrame(glob_data))\n",
    "    "
   ]
  },
  {
   "cell_type": "code",
   "execution_count": 30,
   "metadata": {},
   "outputs": [],
   "source": [
    "path_list = [\"../../news-please-repo/data/2020/02/06/abort73.com/*.json\"]\n",
    "df_ag_ab = import_data(path_list)\n",
    "\n",
    "path_list = [\"../../news-please-repo/data/2020/02/06/prochoiceamerica.org/*.json\"]\n",
    "df_pro_ab = import_data(path_list)"
   ]
  }
 ],
 "metadata": {
  "kernelspec": {
   "display_name": "Python 3",
   "language": "python",
   "name": "python3"
  },
  "language_info": {
   "codemirror_mode": {
    "name": "ipython",
    "version": 3
   },
   "file_extension": ".py",
   "mimetype": "text/x-python",
   "name": "python",
   "nbconvert_exporter": "python",
   "pygments_lexer": "ipython3",
   "version": "3.7.5"
  }
 },
 "nbformat": 4,
 "nbformat_minor": 2
}
