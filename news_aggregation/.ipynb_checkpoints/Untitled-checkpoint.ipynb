{
 "cells": [
  {
   "cell_type": "code",
   "execution_count": 10,
   "metadata": {},
   "outputs": [],
   "source": [
    "import pandas as pd"
   ]
  },
  {
   "cell_type": "code",
   "execution_count": 49,
   "metadata": {},
   "outputs": [],
   "source": [
    "import glob\n",
    "import json\n",
    "\n",
    "def create_df(path_list, topic, source_stance):\n",
    "    glob_data = []\n",
    "    for path in path_list:\n",
    "        for file in glob.glob(path):\n",
    "            with open(file) as json_file:\n",
    "                data = json.load(json_file)\n",
    "                glob_data.append(data)\n",
    "\n",
    "        df = pd.DataFrame(glob_data)\n",
    "        df['topic'] = topic\n",
    "        df['source_stance'] = source_stance\n",
    "    return(df)\n"
   ]
  },
  {
   "cell_type": "code",
   "execution_count": 52,
   "metadata": {
    "scrolled": true
   },
   "outputs": [],
   "source": [
    "path_list = [\"../../../news-please-repo/data/2020/02/06/abort73.com/*.json\"]\n",
    "topic = \"abortion\"\n",
    "source_stance = \"con\"\n",
    "\n",
    "df = create_df(path_list, topic, source_stance)"
   ]
  },
  {
   "cell_type": "code",
   "execution_count": 54,
   "metadata": {},
   "outputs": [
    {
     "data": {
      "text/plain": [
       "Index(['authors', 'date_download', 'date_modify', 'date_publish',\n",
       "       'description', 'filename', 'image_url', 'language', 'localpath',\n",
       "       'title', 'title_page', 'title_rss', 'source_domain', 'text', 'url',\n",
       "       'topic', 'source_stance'],\n",
       "      dtype='object')"
      ]
     },
     "execution_count": 54,
     "metadata": {},
     "output_type": "execute_result"
    }
   ],
   "source": [
    "df.columns"
   ]
  }
 ],
 "metadata": {
  "kernelspec": {
   "display_name": "Python 3",
   "language": "python",
   "name": "python3"
  },
  "language_info": {
   "codemirror_mode": {
    "name": "ipython",
    "version": 3
   },
   "file_extension": ".py",
   "mimetype": "text/x-python",
   "name": "python",
   "nbconvert_exporter": "python",
   "pygments_lexer": "ipython3",
   "version": "3.7.5"
  }
 },
 "nbformat": 4,
 "nbformat_minor": 2
}
