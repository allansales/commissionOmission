{
 "cells": [
  {
   "cell_type": "code",
   "execution_count": 1,
   "metadata": {},
   "outputs": [],
   "source": [
    "import pandas as pd"
   ]
  },
  {
   "cell_type": "raw",
   "metadata": {},
   "source": [
    "calmca - agaist marijuana legalization\n",
    "mpp - pro marijuana legalization\n",
    "prochoice - pro abortion\n",
    "abort73 - against abortion"
   ]
  },
  {
   "cell_type": "markdown",
   "metadata": {},
   "source": [
    "## Arguments processing "
   ]
  },
  {
   "cell_type": "code",
   "execution_count": 2,
   "metadata": {},
   "outputs": [],
   "source": [
    "args_json = pd.read_json(\"../crawlers/procon/procon.json\")\n",
    "\n",
    "def format_args_row(row):\n",
    "    df = row.apply(pd.Series).T\n",
    "    df.url = df.url[0]\n",
    "    df.topic = df.topic[0]\n",
    "    return(df)\n",
    "\n",
    "arg_df_series = args_json.apply(format_args_row, axis=1)\n",
    "args_df = pd.concat(arg_df_series.values.tolist(),ignore_index=True)\n",
    "\n"
   ]
  },
  {
   "cell_type": "code",
   "execution_count": 3,
   "metadata": {},
   "outputs": [],
   "source": [
    "def orientation(pro_con):\n",
    "    if \"Pro\" in pro_con:\n",
    "        return \"Pro\"\n",
    "    return \"Con\"\n",
    "\n",
    "args_df = args_df.assign(argument_orient = args_df.apply(lambda row: orientation(row.pro_con), axis=1))"
   ]
  },
  {
   "cell_type": "markdown",
   "metadata": {},
   "source": [
    "## Documents processing"
   ]
  },
  {
   "cell_type": "markdown",
   "metadata": {},
   "source": [
    "#### Convert from json to dataframe and add the topic and the source stance information "
   ]
  },
  {
   "cell_type": "code",
   "execution_count": 4,
   "metadata": {},
   "outputs": [],
   "source": [
    "import glob\n",
    "import json\n",
    "\n",
    "def create_df(path_list, topic, source_stance):\n",
    "    glob_data = []\n",
    "    for path in path_list:\n",
    "        for file in glob.glob(path):\n",
    "            with open(file) as json_file:\n",
    "                data = json.load(json_file)\n",
    "                glob_data.append(data)\n",
    "\n",
    "        df = pd.DataFrame(glob_data)\n",
    "        df['text_topic'] = topic\n",
    "        df['text_source_stance'] = source_stance\n",
    "    return(df)"
   ]
  },
  {
   "cell_type": "code",
   "execution_count": 5,
   "metadata": {},
   "outputs": [],
   "source": [
    "path_list = [\"../../../news-please-repo/data/2020/02/06/abort73.com/*.json\"]\n",
    "topic = \"Abortion\"\n",
    "source_stance = \"Con\"\n",
    "\n",
    "abort73 = create_df(path_list, topic, source_stance)"
   ]
  },
  {
   "cell_type": "code",
   "execution_count": 6,
   "metadata": {},
   "outputs": [],
   "source": [
    "path_list = [\"../../../news-please-repo/data/2020/02/06/mpp.org/*.json\",\"../../../news-please-repo/data/2020/02/06/blog.mpp.org/*.json\"]\n",
    "topic = \"Marijuana\"\n",
    "source_stance = \"Pro\"\n",
    "\n",
    "mpp = create_df(path_list, topic, source_stance)"
   ]
  },
  {
   "cell_type": "code",
   "execution_count": 7,
   "metadata": {},
   "outputs": [],
   "source": [
    "path_list = [\"../../../news-please-repo/data/2020/02/06/prochoiceamerica.org/*.json\"]\n",
    "topic = \"Abortion\"\n",
    "source_stance = \"Pro\"\n",
    "\n",
    "prochoice = create_df(path_list, topic, source_stance)"
   ]
  },
  {
   "cell_type": "code",
   "execution_count": 8,
   "metadata": {},
   "outputs": [],
   "source": [
    "path_list = [\"../../../news-please-repo/data/2020/02/06/calmca.org/*.json\"]\n",
    "topic = \"Marijuana\"\n",
    "source_stance = \"Con\"\n",
    "\n",
    "calmca = create_df(path_list, topic, source_stance)"
   ]
  },
  {
   "cell_type": "code",
   "execution_count": 9,
   "metadata": {},
   "outputs": [],
   "source": [
    "document_df = pd.concat([abort73, prochoice, mpp, calmca], ignore_index=True)"
   ]
  },
  {
   "cell_type": "markdown",
   "metadata": {},
   "source": [
    "#### Filter the columns of dataframes to use "
   ]
  },
  {
   "cell_type": "code",
   "execution_count": 10,
   "metadata": {},
   "outputs": [],
   "source": [
    "columns = ['authors', 'date_modify', 'date_publish', 'title', 'source_domain', 'text', 'url', 'text_topic', 'text_source_stance']\n",
    "document_df = pd.DataFrame(document_df, columns=columns)\n",
    "document_df = document_df.rename(columns={\"authors\":\"text_authors\", \"title\":\"text_title\", \"source_domain\":\"text_source_domain\", \"url\":\"text_url\"})"
   ]
  },
  {
   "cell_type": "markdown",
   "metadata": {},
   "source": [
    "#### Merge documents and arguments by topic "
   ]
  },
  {
   "cell_type": "code",
   "execution_count": 11,
   "metadata": {
    "scrolled": true
   },
   "outputs": [],
   "source": [
    "args_docs = args_df.merge(document_df, left_on=['topic'], right_on=['text_topic'])"
   ]
  },
  {
   "cell_type": "code",
   "execution_count": 12,
   "metadata": {},
   "outputs": [],
   "source": [
    "args_docs.to_csv(\"args_docs.csv\", index_label=False)"
   ]
  },
  {
   "cell_type": "markdown",
   "metadata": {},
   "source": [
    "## Paragraphs"
   ]
  },
  {
   "cell_type": "code",
   "execution_count": 13,
   "metadata": {},
   "outputs": [],
   "source": [
    "wiki_json = pd.read_json(\"../crawlers/procon/wiki.json\")"
   ]
  },
  {
   "cell_type": "code",
   "execution_count": 14,
   "metadata": {},
   "outputs": [],
   "source": [
    "def format_wiki_row(row):\n",
    "    df = row.apply(pd.Series).T\n",
    "    df.source = df.source[0]\n",
    "    df.title = df.title[0]\n",
    "    df.topic = df.topic[0]\n",
    "    df.stance = df.stance[0]\n",
    "    df.url = df.url[0]\n",
    "    return(df)\n",
    "\n",
    "wiki_df_series = wiki_json.apply(format_wiki_row, axis=1)\n",
    "wiki_df = pd.concat(wiki_df_series.values.tolist(),ignore_index=True)\n",
    "wiki_df = wiki_df.rename(columns={\"topic\":\"text_topic\", \"title\":\"text_title\", \"content\":\"text\", \"source\":\"text_source_domain\", \"stance\":\"text_source_stance\", \"url\":\"text_url\"})"
   ]
  },
  {
   "cell_type": "code",
   "execution_count": 15,
   "metadata": {},
   "outputs": [],
   "source": [
    "args_prg = args_df.merge(wiki_df, left_on=['topic'], right_on=['text_topic'])"
   ]
  },
  {
   "cell_type": "code",
   "execution_count": 16,
   "metadata": {},
   "outputs": [],
   "source": [
    "args_prg.to_csv(\"args_prg.csv\", index_label=False)"
   ]
  },
  {
   "cell_type": "code",
   "execution_count": null,
   "metadata": {},
   "outputs": [],
   "source": []
  }
 ],
 "metadata": {
  "kernelspec": {
   "display_name": "Python 3",
   "language": "python",
   "name": "python3"
  },
  "language_info": {
   "codemirror_mode": {
    "name": "ipython",
    "version": 3
   },
   "file_extension": ".py",
   "mimetype": "text/x-python",
   "name": "python",
   "nbconvert_exporter": "python",
   "pygments_lexer": "ipython3",
   "version": "3.7.5"
  }
 },
 "nbformat": 4,
 "nbformat_minor": 2
}
