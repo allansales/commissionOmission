{
 "cells": [
  {
   "cell_type": "code",
   "execution_count": 35,
   "metadata": {},
   "outputs": [],
   "source": [
    "import numpy\n",
    "import pandas as pd\n",
    "from gensim.models import Word2Vec\n",
    "from gensim.models import KeyedVectors"
   ]
  },
  {
   "cell_type": "code",
   "execution_count": 2,
   "metadata": {},
   "outputs": [],
   "source": [
    "model = KeyedVectors.load_word2vec_format('word_embeddings/model.bin', binary=True)"
   ]
  },
  {
   "cell_type": "code",
   "execution_count": 36,
   "metadata": {},
   "outputs": [],
   "source": [
    "wiki_json = pd.read_json(\"../crawlers/procon/wiki.json\")\n",
    "args_json = pd.read_json(\"../crawlers/procon/procon.json\")"
   ]
  },
  {
   "cell_type": "markdown",
   "metadata": {},
   "source": [
    "#### Format DataFrame rows"
   ]
  },
  {
   "cell_type": "code",
   "execution_count": 42,
   "metadata": {},
   "outputs": [],
   "source": [
    "def format_args_row(row):\n",
    "    df = row.apply(pd.Series).T\n",
    "    df.url = df.url[0]\n",
    "    df.topic = df.topic[0]\n",
    "    return(df)\n",
    "\n",
    "arg_df_series = args_json.apply(format_args_row, axis=1)\n",
    "args_df = pd.concat(arg_df_series.values.tolist(),ignore_index=True)"
   ]
  },
  {
   "cell_type": "code",
   "execution_count": 40,
   "metadata": {},
   "outputs": [],
   "source": [
    "def format_wiki_row(row):\n",
    "    df = row.apply(pd.Series).T\n",
    "    df.source = df.source[0]\n",
    "    df.title = df.title[0]\n",
    "    df.topic = df.topic[0]\n",
    "    return(df)\n",
    "\n",
    "wiki_df_series = wiki_json.apply(format_wiki_row, axis=1)\n",
    "wiki_df = pd.concat(wiki_df_series.values.tolist(),ignore_index=True)"
   ]
  },
  {
   "cell_type": "code",
   "execution_count": 43,
   "metadata": {},
   "outputs": [
    {
     "data": {
      "text/html": [
       "<div>\n",
       "<style scoped>\n",
       "    .dataframe tbody tr th:only-of-type {\n",
       "        vertical-align: middle;\n",
       "    }\n",
       "\n",
       "    .dataframe tbody tr th {\n",
       "        vertical-align: top;\n",
       "    }\n",
       "\n",
       "    .dataframe thead th {\n",
       "        text-align: right;\n",
       "    }\n",
       "</style>\n",
       "<table border=\"1\" class=\"dataframe\">\n",
       "  <thead>\n",
       "    <tr style=\"text-align: right;\">\n",
       "      <th></th>\n",
       "      <th>url</th>\n",
       "      <th>topic</th>\n",
       "      <th>pro_con</th>\n",
       "      <th>argument_topic</th>\n",
       "      <th>argument</th>\n",
       "      <th>argument_summary</th>\n",
       "    </tr>\n",
       "  </thead>\n",
       "  <tbody>\n",
       "    <tr>\n",
       "      <th>0</th>\n",
       "      <td>https://euthanasia.procon.org/view.resource.ph...</td>\n",
       "      <td>Euthanasia</td>\n",
       "      <td>Pro 1</td>\n",
       "      <td>Legalization</td>\n",
       "      <td>\"The right to die should be a matter of person...</td>\n",
       "      <td>NaN</td>\n",
       "    </tr>\n",
       "    <tr>\n",
       "      <th>1</th>\n",
       "      <td>https://euthanasia.procon.org/view.resource.ph...</td>\n",
       "      <td>Euthanasia</td>\n",
       "      <td>Pro 2</td>\n",
       "      <td>Legalization: Medical Perspectives</td>\n",
       "      <td>\"I have long favored legalizing physician-assi...</td>\n",
       "      <td>NaN</td>\n",
       "    </tr>\n",
       "    <tr>\n",
       "      <th>2</th>\n",
       "      <td>https://euthanasia.procon.org/view.resource.ph...</td>\n",
       "      <td>Euthanasia</td>\n",
       "      <td>Pro 3</td>\n",
       "      <td>Legalization: Lawmakers' Views</td>\n",
       "      <td>\"The crux of the matter is whether the State o...</td>\n",
       "      <td>NaN</td>\n",
       "    </tr>\n",
       "    <tr>\n",
       "      <th>3</th>\n",
       "      <td>https://euthanasia.procon.org/view.resource.ph...</td>\n",
       "      <td>Euthanasia</td>\n",
       "      <td>Pro 4</td>\n",
       "      <td>Vulnerable Groups</td>\n",
       "      <td>\"Data from places where assisted dying has bee...</td>\n",
       "      <td>NaN</td>\n",
       "    </tr>\n",
       "    <tr>\n",
       "      <th>4</th>\n",
       "      <td>https://euthanasia.procon.org/view.resource.ph...</td>\n",
       "      <td>Euthanasia</td>\n",
       "      <td>Pro 5</td>\n",
       "      <td>Hippocratic Oath</td>\n",
       "      <td>\"There's people that tell me why are you doing...</td>\n",
       "      <td>NaN</td>\n",
       "    </tr>\n",
       "    <tr>\n",
       "      <th>...</th>\n",
       "      <td>...</td>\n",
       "      <td>...</td>\n",
       "      <td>...</td>\n",
       "      <td>...</td>\n",
       "      <td>...</td>\n",
       "      <td>...</td>\n",
       "    </tr>\n",
       "    <tr>\n",
       "      <th>319</th>\n",
       "      <td>https://climatechange.procon.org/</td>\n",
       "      <td>Climate Change</td>\n",
       "      <td>Con 9</td>\n",
       "      <td>NaN</td>\n",
       "      <td>The acidity levels of the oceans are within pa...</td>\n",
       "      <td>The acidity levels of the oceans are within pa...</td>\n",
       "    </tr>\n",
       "    <tr>\n",
       "      <th>320</th>\n",
       "      <td>https://climatechange.procon.org/</td>\n",
       "      <td>Climate Change</td>\n",
       "      <td>Con 10</td>\n",
       "      <td>NaN</td>\n",
       "      <td>Predictions of accelerating human-caused clima...</td>\n",
       "      <td>Predictions of accelerating human-caused clima...</td>\n",
       "    </tr>\n",
       "    <tr>\n",
       "      <th>321</th>\n",
       "      <td>https://climatechange.procon.org/</td>\n",
       "      <td>Climate Change</td>\n",
       "      <td>Con 11</td>\n",
       "      <td>NaN</td>\n",
       "      <td>Glaciers have been growing and receding for th...</td>\n",
       "      <td>Glaciers have been growing and receding for th...</td>\n",
       "    </tr>\n",
       "    <tr>\n",
       "      <th>322</th>\n",
       "      <td>https://climatechange.procon.org/</td>\n",
       "      <td>Climate Change</td>\n",
       "      <td>Con 12</td>\n",
       "      <td>NaN</td>\n",
       "      <td>Deep ocean currents, not human activity, are a...</td>\n",
       "      <td>Deep ocean currents, not human activity, are a...</td>\n",
       "    </tr>\n",
       "    <tr>\n",
       "      <th>323</th>\n",
       "      <td>https://climatechange.procon.org/</td>\n",
       "      <td>Climate Change</td>\n",
       "      <td>Con 13</td>\n",
       "      <td>NaN</td>\n",
       "      <td>Increased hurricane activity and other extreme...</td>\n",
       "      <td>Increased hurricane activity and other extreme...</td>\n",
       "    </tr>\n",
       "  </tbody>\n",
       "</table>\n",
       "<p>324 rows × 6 columns</p>\n",
       "</div>"
      ],
      "text/plain": [
       "                                                   url           topic  \\\n",
       "0    https://euthanasia.procon.org/view.resource.ph...      Euthanasia   \n",
       "1    https://euthanasia.procon.org/view.resource.ph...      Euthanasia   \n",
       "2    https://euthanasia.procon.org/view.resource.ph...      Euthanasia   \n",
       "3    https://euthanasia.procon.org/view.resource.ph...      Euthanasia   \n",
       "4    https://euthanasia.procon.org/view.resource.ph...      Euthanasia   \n",
       "..                                                 ...             ...   \n",
       "319                  https://climatechange.procon.org/  Climate Change   \n",
       "320                  https://climatechange.procon.org/  Climate Change   \n",
       "321                  https://climatechange.procon.org/  Climate Change   \n",
       "322                  https://climatechange.procon.org/  Climate Change   \n",
       "323                  https://climatechange.procon.org/  Climate Change   \n",
       "\n",
       "    pro_con                      argument_topic  \\\n",
       "0     Pro 1                        Legalization   \n",
       "1     Pro 2  Legalization: Medical Perspectives   \n",
       "2     Pro 3      Legalization: Lawmakers' Views   \n",
       "3     Pro 4                   Vulnerable Groups   \n",
       "4     Pro 5                    Hippocratic Oath   \n",
       "..      ...                                 ...   \n",
       "319   Con 9                                 NaN   \n",
       "320  Con 10                                 NaN   \n",
       "321  Con 11                                 NaN   \n",
       "322  Con 12                                 NaN   \n",
       "323  Con 13                                 NaN   \n",
       "\n",
       "                                              argument  \\\n",
       "0    \"The right to die should be a matter of person...   \n",
       "1    \"I have long favored legalizing physician-assi...   \n",
       "2    \"The crux of the matter is whether the State o...   \n",
       "3    \"Data from places where assisted dying has bee...   \n",
       "4    \"There's people that tell me why are you doing...   \n",
       "..                                                 ...   \n",
       "319  The acidity levels of the oceans are within pa...   \n",
       "320  Predictions of accelerating human-caused clima...   \n",
       "321  Glaciers have been growing and receding for th...   \n",
       "322  Deep ocean currents, not human activity, are a...   \n",
       "323  Increased hurricane activity and other extreme...   \n",
       "\n",
       "                                      argument_summary  \n",
       "0                                                  NaN  \n",
       "1                                                  NaN  \n",
       "2                                                  NaN  \n",
       "3                                                  NaN  \n",
       "4                                                  NaN  \n",
       "..                                                 ...  \n",
       "319  The acidity levels of the oceans are within pa...  \n",
       "320  Predictions of accelerating human-caused clima...  \n",
       "321  Glaciers have been growing and receding for th...  \n",
       "322  Deep ocean currents, not human activity, are a...  \n",
       "323  Increased hurricane activity and other extreme...  \n",
       "\n",
       "[324 rows x 6 columns]"
      ]
     },
     "execution_count": 43,
     "metadata": {},
     "output_type": "execute_result"
    }
   ],
   "source": [
    "args_df"
   ]
  },
  {
   "cell_type": "markdown",
   "metadata": {},
   "source": [
    "#### Compute WMD"
   ]
  },
  {
   "cell_type": "code",
   "execution_count": 25,
   "metadata": {},
   "outputs": [],
   "source": [
    "sentence_obama = 'Obama speaks to the media in Illinois'\n",
    "sentence_president = 'The president greets the press in Chicago'\n",
    "sentence_obama = sentence_obama.lower().split()\n",
    "sentence_president = sentence_president.lower().split()"
   ]
  },
  {
   "cell_type": "code",
   "execution_count": 26,
   "metadata": {},
   "outputs": [
    {
     "data": {
      "text/plain": [
       "1.7989815081569065"
      ]
     },
     "execution_count": 26,
     "metadata": {},
     "output_type": "execute_result"
    }
   ],
   "source": [
    "model.wmdistance(sentence_obama, sentence_president)"
   ]
  },
  {
   "cell_type": "code",
   "execution_count": 34,
   "metadata": {},
   "outputs": [
    {
     "data": {
      "text/plain": [
       "0.36287476816600606"
      ]
     },
     "execution_count": 34,
     "metadata": {},
     "output_type": "execute_result"
    }
   ],
   "source": [
    "model.wmdistance(wiki_df.content, args_df.argument[0])"
   ]
  },
  {
   "cell_type": "code",
   "execution_count": null,
   "metadata": {},
   "outputs": [],
   "source": []
  }
 ],
 "metadata": {
  "kernelspec": {
   "display_name": "Python 3",
   "language": "python",
   "name": "python3"
  },
  "language_info": {
   "codemirror_mode": {
    "name": "ipython",
    "version": 3
   },
   "file_extension": ".py",
   "mimetype": "text/x-python",
   "name": "python",
   "nbconvert_exporter": "python",
   "pygments_lexer": "ipython3",
   "version": "3.7.5"
  }
 },
 "nbformat": 4,
 "nbformat_minor": 2
}
