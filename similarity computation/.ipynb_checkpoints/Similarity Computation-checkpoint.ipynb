{
 "cells": [
  {
   "cell_type": "code",
   "execution_count": 22,
   "metadata": {},
   "outputs": [],
   "source": [
    "import numpy as np\n",
    "import pandas as pd\n",
    "from gensim.models import Word2Vec\n",
    "from gensim.models import KeyedVectors"
   ]
  },
  {
   "cell_type": "code",
   "execution_count": 2,
   "metadata": {},
   "outputs": [],
   "source": [
    "model = KeyedVectors.load_word2vec_format('word_embeddings/model.bin', binary=True)"
   ]
  },
  {
   "cell_type": "code",
   "execution_count": 3,
   "metadata": {},
   "outputs": [],
   "source": [
    "wiki_json = pd.read_json(\"../crawlers/procon/wiki.json\")\n",
    "args_json = pd.read_json(\"../crawlers/procon/procon.json\")"
   ]
  },
  {
   "cell_type": "markdown",
   "metadata": {},
   "source": [
    "#### Format DataFrame rows"
   ]
  },
  {
   "cell_type": "code",
   "execution_count": 4,
   "metadata": {},
   "outputs": [],
   "source": [
    "def format_args_row(row):\n",
    "    df = row.apply(pd.Series).T\n",
    "    df.url = df.url[0]\n",
    "    df.topic = df.topic[0]\n",
    "    return(df)\n",
    "\n",
    "arg_df_series = args_json.apply(format_args_row, axis=1)\n",
    "args_df = pd.concat(arg_df_series.values.tolist(),ignore_index=True)"
   ]
  },
  {
   "cell_type": "code",
   "execution_count": 5,
   "metadata": {},
   "outputs": [],
   "source": [
    "def format_wiki_row(row):\n",
    "    df = row.apply(pd.Series).T\n",
    "    df.source = df.source[0]\n",
    "    df.title = df.title[0]\n",
    "    df.topic = df.topic[0]\n",
    "    return(df)\n",
    "\n",
    "wiki_df_series = wiki_json.apply(format_wiki_row, axis=1)\n",
    "wiki_df = pd.concat(wiki_df_series.values.tolist(),ignore_index=True)"
   ]
  },
  {
   "cell_type": "markdown",
   "metadata": {},
   "source": [
    "### Preprocess Text"
   ]
  },
  {
   "cell_type": "markdown",
   "metadata": {},
   "source": [
    "#### Create dataframe which will store the data"
   ]
  },
  {
   "cell_type": "code",
   "execution_count": 104,
   "metadata": {},
   "outputs": [],
   "source": [
    "wmd_df = args_df.merge(wiki_df)"
   ]
  },
  {
   "cell_type": "code",
   "execution_count": 105,
   "metadata": {},
   "outputs": [],
   "source": [
    "#wmd_df = wmd_df.head()"
   ]
  },
  {
   "cell_type": "markdown",
   "metadata": {},
   "source": [
    "#### Lowercase and remove Stopwords"
   ]
  },
  {
   "cell_type": "code",
   "execution_count": 106,
   "metadata": {},
   "outputs": [
    {
     "name": "stderr",
     "output_type": "stream",
     "text": [
      "[nltk_data] Downloading package stopwords to /home/allan/nltk_data...\n",
      "[nltk_data]   Package stopwords is already up-to-date!\n"
     ]
    }
   ],
   "source": [
    "from nltk.corpus import stopwords\n",
    "from nltk import download\n",
    "download('stopwords') \n",
    "\n",
    "stop_words = stopwords.words('english')\n",
    "\n",
    "def preprocess_sentence(str_array):\n",
    "    new_sentences = []\n",
    "    for text in str_array: #wmd_df.argument:\n",
    "        new_sentence = []\n",
    "        for word in text.split():\n",
    "            if word not in stop_words:\n",
    "                new_sentence.append(word.lower())\n",
    "        new_sentences.append(new_sentence)\n",
    "    return(new_sentences)"
   ]
  },
  {
   "cell_type": "code",
   "execution_count": 107,
   "metadata": {},
   "outputs": [],
   "source": [
    "wmd_df = wmd_df.assign(argument_processed = preprocess_sentence(wmd_df.argument),\n",
    "                      content_processed = preprocess_sentence(wmd_df.content))"
   ]
  },
  {
   "cell_type": "markdown",
   "metadata": {},
   "source": [
    "#### Compute the WMD between arguments and each paragraph"
   ]
  },
  {
   "cell_type": "code",
   "execution_count": 109,
   "metadata": {},
   "outputs": [
    {
     "name": "stderr",
     "output_type": "stream",
     "text": [
      "/home/allan/anaconda2/lib/python3.7/site-packages/tqdm/std.py:648: FutureWarning: The Panel class is removed from pandas. Accessing it from the top-level namespace will also be removed in the next version\n",
      "  from pandas import Panel\n",
      "100%|██████████| 97673/97673 [31:22<00:00, 51.88it/s]  \n"
     ]
    }
   ],
   "source": [
    "from tqdm import tqdm\n",
    "tqdm.pandas()\n",
    "\n",
    "model.init_sims(replace=True)\n",
    "\n",
    "#wmd_df['wmd'] = wmd_df.apply(lambda x: model.wmdistance(x.argument_processed, x.content_processed), axis=1)\n",
    "wmd_df['wmd'] = wmd_df.progress_apply(lambda x: model.wmdistance(x.argument_processed, x.content_processed), axis=1)"
   ]
  },
  {
   "cell_type": "code",
   "execution_count": 110,
   "metadata": {},
   "outputs": [],
   "source": [
    "#wmd_df.to_csv ('wmd_distances.csv', index = None, header=True)"
   ]
  },
  {
   "cell_type": "markdown",
   "metadata": {},
   "source": [
    "#### Similarity computation "
   ]
  },
  {
   "cell_type": "code",
   "execution_count": 19,
   "metadata": {},
   "outputs": [],
   "source": [
    "def similarity_computation(X):\n",
    "    norm_X = (X - X.min()) / (X.max() - X.min())\n",
    "    sim_X = 1-norm_X\n",
    "    return(sim_X)\n",
    "\n",
    "wmd_df = wmd_df.assign(wmd_sim = similarity_computation(wmd_df.wmd))"
   ]
  },
  {
   "cell_type": "markdown",
   "metadata": {},
   "source": [
    "#### WEAT for documents (name it better)"
   ]
  },
  {
   "cell_type": "code",
   "execution_count": 48,
   "metadata": {},
   "outputs": [],
   "source": [
    "df_filtered = wmd_df.query('topic == \"Euthanasia\"') "
   ]
  },
  {
   "cell_type": "code",
   "execution_count": 89,
   "metadata": {},
   "outputs": [],
   "source": [
    "fake_data = {'content':[\"pa1\",\"pa2\",\"pa1\",\"pa2\",\"pa1\",\"pa2\",\"pa1\",\"pa2\",\"pa1\",\"pa2\"],\n",
    "             'pro_con':[\"c1\",\"c1\",\"c2\",\"c2\",\"p1\",\"p1\",\"p2\",\"p2\",\"p3\",\"p3\"],\n",
    "             'source':[\"con\",\"con\",\"con\",\"con\",\"con\",\"con\",\"con\",\"con\",\"con\",\"con\"],\n",
    "             'topic':[\"A\",\"A\",\"A\",\"A\",\"A\",\"A\",\"A\",\"A\",\"A\",\"A\"],\n",
    "             'wmd_sim':[0.8, 0.8, 0.9, 0.7, 0.6, 0.8, 0.8, 0.9, 0.7, 0.6]} \n",
    "\n",
    "fake_data_2 = {'content':[\"pa1\",\"pa2\",\"pa3\",\"pa1\",\"pa2\",\"pa3\",\"pa1\",\"pa2\",\"pa3\",\"pa1\",\"pa2\",\"pa3\",\"pa1\",\"pa2\",\"pa3\"],\n",
    "             'pro_con':[\"c1\",\"c1\",\"c1\",\"c2\",\"c2\",\"c2\",\"p1\",\"p1\",\"p1\",\"p2\",\"p2\",\"p2\",\"p3\",\"p3\",\"p3\"],\n",
    "             'source':[\"rat\",\"rat\",\"rat\",\"rat\",\"rat\",\"rat\",\"rat\",\"rat\",\"rat\",\"rat\",\"rat\",\"rat\",\"rat\",\"rat\",\"rat\"],\n",
    "             'topic':[\"A\",\"A\",\"A\",\"A\",\"A\",\"A\",\"A\",\"A\",\"A\",\"A\",\"A\",\"A\",\"A\",\"A\",\"A\"],\n",
    "             'wmd_sim':[0.8, 0.8, 0.9, 0.7, 0.6, 0.8, 0.8, 0.9, 0.7, 0.6, 0.8, 0.8, 0.9, 0.7, 0.6]} \n",
    "\n",
    "fake_data_3 = {'content':[\"pa1\",\"pa2\",\"pa1\",\"pa2\",\"pa1\",\"pa2\",\"pa1\",\"pa2\",\"pa1\",\"pa2\",\"pa1\",\"pa2\",\"pa3\",\"pa1\",\"pa2\",\"pa3\",\"pa1\",\"pa2\",\"pa3\",\"pa1\",\"pa2\",\"pa3\",\"pa1\",\"pa2\",\"pa3\"],\n",
    "             'pro_con':[\"Con 1\",\"Con 1\",\"Con 2\",\"Con 2\",\"Pro 1\",\"Pro 1\",\"Pro 2\",\"Pro 2\",\"Pro 3\",\"Pro 3\",\"Con 1\",\"Con 1\",\"Con 1\",\"Con 2\",\"Con 2\",\"Con 2\",\"Pro 1\",\"Pro 1\",\"Pro 1\",\"Pro 2\",\"Pro 2\",\"Pro 2\",\"Pro 3\",\"Pro 3\",\"Pro 3\"],\n",
    "             'source':[\"con\",\"con\",\"con\",\"con\",\"con\",\"con\",\"con\",\"con\",\"con\",\"con\",\"rat\",\"rat\",\"rat\",\"rat\",\"rat\",\"rat\",\"rat\",\"rat\",\"rat\",\"rat\",\"rat\",\"rat\",\"rat\",\"rat\",\"rat\"],\n",
    "             'topic':[\"A\",\"A\",\"A\",\"A\",\"A\",\"A\",\"A\",\"A\",\"A\",\"A\",\"A\",\"A\",\"A\",\"A\",\"A\",\"A\",\"A\",\"A\",\"A\",\"A\",\"A\",\"A\",\"A\",\"A\",\"A\"],\n",
    "             'wmd_sim':[0.8, 0.8, 0.9, 0.7, 0.6, 0.8, 0.8, 0.9, 0.7, 0.6,0.8, 0.8, 0.9, 0.7, 0.6, 0.8, 0.8, 0.9, 0.7, 0.6, 0.8, 0.8, 0.9, 0.7, 0.6]} \n",
    "\n",
    "fake_wmd_df = pd.DataFrame(fake_data_3) "
   ]
  },
  {
   "cell_type": "code",
   "execution_count": 97,
   "metadata": {
    "scrolled": true
   },
   "outputs": [],
   "source": [
    "def orientation(pro_con):\n",
    "    if \"Pro\" in pro_con:\n",
    "        return \"Pro\"\n",
    "    return \"Con\"\n",
    "\n",
    "fake_wmd_df[\"arg_orient\"] = fake_wmd_df.apply(lambda row: orientation(row.pro_con), axis=1)\n"
   ]
  },
  {
   "cell_type": "code",
   "execution_count": 99,
   "metadata": {
    "scrolled": true
   },
   "outputs": [
    {
     "data": {
      "text/html": [
       "<div>\n",
       "<style scoped>\n",
       "    .dataframe tbody tr th:only-of-type {\n",
       "        vertical-align: middle;\n",
       "    }\n",
       "\n",
       "    .dataframe tbody tr th {\n",
       "        vertical-align: top;\n",
       "    }\n",
       "\n",
       "    .dataframe thead th {\n",
       "        text-align: right;\n",
       "    }\n",
       "</style>\n",
       "<table border=\"1\" class=\"dataframe\">\n",
       "  <thead>\n",
       "    <tr style=\"text-align: right;\">\n",
       "      <th></th>\n",
       "      <th>content</th>\n",
       "      <th>pro_con</th>\n",
       "      <th>source</th>\n",
       "      <th>topic</th>\n",
       "      <th>wmd_sim</th>\n",
       "      <th>arg_orient</th>\n",
       "    </tr>\n",
       "  </thead>\n",
       "  <tbody>\n",
       "    <tr>\n",
       "      <th>0</th>\n",
       "      <td>pa1</td>\n",
       "      <td>Con 1</td>\n",
       "      <td>con</td>\n",
       "      <td>A</td>\n",
       "      <td>0.8</td>\n",
       "      <td>Con</td>\n",
       "    </tr>\n",
       "    <tr>\n",
       "      <th>1</th>\n",
       "      <td>pa2</td>\n",
       "      <td>Con 1</td>\n",
       "      <td>con</td>\n",
       "      <td>A</td>\n",
       "      <td>0.8</td>\n",
       "      <td>Con</td>\n",
       "    </tr>\n",
       "    <tr>\n",
       "      <th>2</th>\n",
       "      <td>pa1</td>\n",
       "      <td>Con 2</td>\n",
       "      <td>con</td>\n",
       "      <td>A</td>\n",
       "      <td>0.9</td>\n",
       "      <td>Con</td>\n",
       "    </tr>\n",
       "    <tr>\n",
       "      <th>3</th>\n",
       "      <td>pa2</td>\n",
       "      <td>Con 2</td>\n",
       "      <td>con</td>\n",
       "      <td>A</td>\n",
       "      <td>0.7</td>\n",
       "      <td>Con</td>\n",
       "    </tr>\n",
       "    <tr>\n",
       "      <th>4</th>\n",
       "      <td>pa1</td>\n",
       "      <td>Pro 1</td>\n",
       "      <td>con</td>\n",
       "      <td>A</td>\n",
       "      <td>0.6</td>\n",
       "      <td>Pro</td>\n",
       "    </tr>\n",
       "    <tr>\n",
       "      <th>5</th>\n",
       "      <td>pa2</td>\n",
       "      <td>Pro 1</td>\n",
       "      <td>con</td>\n",
       "      <td>A</td>\n",
       "      <td>0.8</td>\n",
       "      <td>Pro</td>\n",
       "    </tr>\n",
       "    <tr>\n",
       "      <th>6</th>\n",
       "      <td>pa1</td>\n",
       "      <td>Pro 2</td>\n",
       "      <td>con</td>\n",
       "      <td>A</td>\n",
       "      <td>0.8</td>\n",
       "      <td>Pro</td>\n",
       "    </tr>\n",
       "    <tr>\n",
       "      <th>7</th>\n",
       "      <td>pa2</td>\n",
       "      <td>Pro 2</td>\n",
       "      <td>con</td>\n",
       "      <td>A</td>\n",
       "      <td>0.9</td>\n",
       "      <td>Pro</td>\n",
       "    </tr>\n",
       "    <tr>\n",
       "      <th>8</th>\n",
       "      <td>pa1</td>\n",
       "      <td>Pro 3</td>\n",
       "      <td>con</td>\n",
       "      <td>A</td>\n",
       "      <td>0.7</td>\n",
       "      <td>Pro</td>\n",
       "    </tr>\n",
       "    <tr>\n",
       "      <th>9</th>\n",
       "      <td>pa2</td>\n",
       "      <td>Pro 3</td>\n",
       "      <td>con</td>\n",
       "      <td>A</td>\n",
       "      <td>0.6</td>\n",
       "      <td>Pro</td>\n",
       "    </tr>\n",
       "    <tr>\n",
       "      <th>10</th>\n",
       "      <td>pa1</td>\n",
       "      <td>Con 1</td>\n",
       "      <td>rat</td>\n",
       "      <td>A</td>\n",
       "      <td>0.8</td>\n",
       "      <td>Con</td>\n",
       "    </tr>\n",
       "    <tr>\n",
       "      <th>11</th>\n",
       "      <td>pa2</td>\n",
       "      <td>Con 1</td>\n",
       "      <td>rat</td>\n",
       "      <td>A</td>\n",
       "      <td>0.8</td>\n",
       "      <td>Con</td>\n",
       "    </tr>\n",
       "    <tr>\n",
       "      <th>12</th>\n",
       "      <td>pa3</td>\n",
       "      <td>Con 1</td>\n",
       "      <td>rat</td>\n",
       "      <td>A</td>\n",
       "      <td>0.9</td>\n",
       "      <td>Con</td>\n",
       "    </tr>\n",
       "    <tr>\n",
       "      <th>13</th>\n",
       "      <td>pa1</td>\n",
       "      <td>Con 2</td>\n",
       "      <td>rat</td>\n",
       "      <td>A</td>\n",
       "      <td>0.7</td>\n",
       "      <td>Con</td>\n",
       "    </tr>\n",
       "    <tr>\n",
       "      <th>14</th>\n",
       "      <td>pa2</td>\n",
       "      <td>Con 2</td>\n",
       "      <td>rat</td>\n",
       "      <td>A</td>\n",
       "      <td>0.6</td>\n",
       "      <td>Con</td>\n",
       "    </tr>\n",
       "    <tr>\n",
       "      <th>15</th>\n",
       "      <td>pa3</td>\n",
       "      <td>Con 2</td>\n",
       "      <td>rat</td>\n",
       "      <td>A</td>\n",
       "      <td>0.8</td>\n",
       "      <td>Con</td>\n",
       "    </tr>\n",
       "    <tr>\n",
       "      <th>16</th>\n",
       "      <td>pa1</td>\n",
       "      <td>Pro 1</td>\n",
       "      <td>rat</td>\n",
       "      <td>A</td>\n",
       "      <td>0.8</td>\n",
       "      <td>Pro</td>\n",
       "    </tr>\n",
       "    <tr>\n",
       "      <th>17</th>\n",
       "      <td>pa2</td>\n",
       "      <td>Pro 1</td>\n",
       "      <td>rat</td>\n",
       "      <td>A</td>\n",
       "      <td>0.9</td>\n",
       "      <td>Pro</td>\n",
       "    </tr>\n",
       "    <tr>\n",
       "      <th>18</th>\n",
       "      <td>pa3</td>\n",
       "      <td>Pro 1</td>\n",
       "      <td>rat</td>\n",
       "      <td>A</td>\n",
       "      <td>0.7</td>\n",
       "      <td>Pro</td>\n",
       "    </tr>\n",
       "    <tr>\n",
       "      <th>19</th>\n",
       "      <td>pa1</td>\n",
       "      <td>Pro 2</td>\n",
       "      <td>rat</td>\n",
       "      <td>A</td>\n",
       "      <td>0.6</td>\n",
       "      <td>Pro</td>\n",
       "    </tr>\n",
       "    <tr>\n",
       "      <th>20</th>\n",
       "      <td>pa2</td>\n",
       "      <td>Pro 2</td>\n",
       "      <td>rat</td>\n",
       "      <td>A</td>\n",
       "      <td>0.8</td>\n",
       "      <td>Pro</td>\n",
       "    </tr>\n",
       "    <tr>\n",
       "      <th>21</th>\n",
       "      <td>pa3</td>\n",
       "      <td>Pro 2</td>\n",
       "      <td>rat</td>\n",
       "      <td>A</td>\n",
       "      <td>0.8</td>\n",
       "      <td>Pro</td>\n",
       "    </tr>\n",
       "    <tr>\n",
       "      <th>22</th>\n",
       "      <td>pa1</td>\n",
       "      <td>Pro 3</td>\n",
       "      <td>rat</td>\n",
       "      <td>A</td>\n",
       "      <td>0.9</td>\n",
       "      <td>Pro</td>\n",
       "    </tr>\n",
       "    <tr>\n",
       "      <th>23</th>\n",
       "      <td>pa2</td>\n",
       "      <td>Pro 3</td>\n",
       "      <td>rat</td>\n",
       "      <td>A</td>\n",
       "      <td>0.7</td>\n",
       "      <td>Pro</td>\n",
       "    </tr>\n",
       "    <tr>\n",
       "      <th>24</th>\n",
       "      <td>pa3</td>\n",
       "      <td>Pro 3</td>\n",
       "      <td>rat</td>\n",
       "      <td>A</td>\n",
       "      <td>0.6</td>\n",
       "      <td>Pro</td>\n",
       "    </tr>\n",
       "  </tbody>\n",
       "</table>\n",
       "</div>"
      ],
      "text/plain": [
       "   content pro_con source topic  wmd_sim arg_orient\n",
       "0      pa1   Con 1    con     A      0.8        Con\n",
       "1      pa2   Con 1    con     A      0.8        Con\n",
       "2      pa1   Con 2    con     A      0.9        Con\n",
       "3      pa2   Con 2    con     A      0.7        Con\n",
       "4      pa1   Pro 1    con     A      0.6        Pro\n",
       "5      pa2   Pro 1    con     A      0.8        Pro\n",
       "6      pa1   Pro 2    con     A      0.8        Pro\n",
       "7      pa2   Pro 2    con     A      0.9        Pro\n",
       "8      pa1   Pro 3    con     A      0.7        Pro\n",
       "9      pa2   Pro 3    con     A      0.6        Pro\n",
       "10     pa1   Con 1    rat     A      0.8        Con\n",
       "11     pa2   Con 1    rat     A      0.8        Con\n",
       "12     pa3   Con 1    rat     A      0.9        Con\n",
       "13     pa1   Con 2    rat     A      0.7        Con\n",
       "14     pa2   Con 2    rat     A      0.6        Con\n",
       "15     pa3   Con 2    rat     A      0.8        Con\n",
       "16     pa1   Pro 1    rat     A      0.8        Pro\n",
       "17     pa2   Pro 1    rat     A      0.9        Pro\n",
       "18     pa3   Pro 1    rat     A      0.7        Pro\n",
       "19     pa1   Pro 2    rat     A      0.6        Pro\n",
       "20     pa2   Pro 2    rat     A      0.8        Pro\n",
       "21     pa3   Pro 2    rat     A      0.8        Pro\n",
       "22     pa1   Pro 3    rat     A      0.9        Pro\n",
       "23     pa2   Pro 3    rat     A      0.7        Pro\n",
       "24     pa3   Pro 3    rat     A      0.6        Pro"
      ]
     },
     "execution_count": 99,
     "metadata": {},
     "output_type": "execute_result"
    }
   ],
   "source": [
    "fake_wmd_df"
   ]
  },
  {
   "cell_type": "markdown",
   "metadata": {},
   "source": [
    "##### Similarity paragraph and a pro set "
   ]
  },
  {
   "cell_type": "code",
   "execution_count": 102,
   "metadata": {},
   "outputs": [
    {
     "data": {
      "text/html": [
       "<div>\n",
       "<style scoped>\n",
       "    .dataframe tbody tr th:only-of-type {\n",
       "        vertical-align: middle;\n",
       "    }\n",
       "\n",
       "    .dataframe tbody tr th {\n",
       "        vertical-align: top;\n",
       "    }\n",
       "\n",
       "    .dataframe thead th {\n",
       "        text-align: right;\n",
       "    }\n",
       "</style>\n",
       "<table border=\"1\" class=\"dataframe\">\n",
       "  <thead>\n",
       "    <tr style=\"text-align: right;\">\n",
       "      <th></th>\n",
       "      <th></th>\n",
       "      <th></th>\n",
       "      <th></th>\n",
       "      <th>mean</th>\n",
       "    </tr>\n",
       "    <tr>\n",
       "      <th>topic</th>\n",
       "      <th>source</th>\n",
       "      <th>content</th>\n",
       "      <th>arg_orient</th>\n",
       "      <th></th>\n",
       "    </tr>\n",
       "  </thead>\n",
       "  <tbody>\n",
       "    <tr>\n",
       "      <th rowspan=\"10\" valign=\"top\">A</th>\n",
       "      <th rowspan=\"4\" valign=\"top\">con</th>\n",
       "      <th rowspan=\"2\" valign=\"top\">pa1</th>\n",
       "      <th>Con</th>\n",
       "      <td>0.850000</td>\n",
       "    </tr>\n",
       "    <tr>\n",
       "      <th>Pro</th>\n",
       "      <td>0.700000</td>\n",
       "    </tr>\n",
       "    <tr>\n",
       "      <th rowspan=\"2\" valign=\"top\">pa2</th>\n",
       "      <th>Con</th>\n",
       "      <td>0.750000</td>\n",
       "    </tr>\n",
       "    <tr>\n",
       "      <th>Pro</th>\n",
       "      <td>0.766667</td>\n",
       "    </tr>\n",
       "    <tr>\n",
       "      <th rowspan=\"6\" valign=\"top\">rat</th>\n",
       "      <th rowspan=\"2\" valign=\"top\">pa1</th>\n",
       "      <th>Con</th>\n",
       "      <td>0.750000</td>\n",
       "    </tr>\n",
       "    <tr>\n",
       "      <th>Pro</th>\n",
       "      <td>0.766667</td>\n",
       "    </tr>\n",
       "    <tr>\n",
       "      <th rowspan=\"2\" valign=\"top\">pa2</th>\n",
       "      <th>Con</th>\n",
       "      <td>0.700000</td>\n",
       "    </tr>\n",
       "    <tr>\n",
       "      <th>Pro</th>\n",
       "      <td>0.800000</td>\n",
       "    </tr>\n",
       "    <tr>\n",
       "      <th rowspan=\"2\" valign=\"top\">pa3</th>\n",
       "      <th>Con</th>\n",
       "      <td>0.850000</td>\n",
       "    </tr>\n",
       "    <tr>\n",
       "      <th>Pro</th>\n",
       "      <td>0.700000</td>\n",
       "    </tr>\n",
       "  </tbody>\n",
       "</table>\n",
       "</div>"
      ],
      "text/plain": [
       "                                     mean\n",
       "topic source content arg_orient          \n",
       "A     con    pa1     Con         0.850000\n",
       "                     Pro         0.700000\n",
       "             pa2     Con         0.750000\n",
       "                     Pro         0.766667\n",
       "      rat    pa1     Con         0.750000\n",
       "                     Pro         0.766667\n",
       "             pa2     Con         0.700000\n",
       "                     Pro         0.800000\n",
       "             pa3     Con         0.850000\n",
       "                     Pro         0.700000"
      ]
     },
     "execution_count": 102,
     "metadata": {},
     "output_type": "execute_result"
    }
   ],
   "source": [
    "fake_wmd_df.groupby(['topic','source','content',\"arg_orient\"]).wmd_sim.agg(['mean'])"
   ]
  },
  {
   "cell_type": "code",
   "execution_count": null,
   "metadata": {},
   "outputs": [],
   "source": []
  }
 ],
 "metadata": {
  "kernelspec": {
   "display_name": "Python 3",
   "language": "python",
   "name": "python3"
  },
  "language_info": {
   "codemirror_mode": {
    "name": "ipython",
    "version": 3
   },
   "file_extension": ".py",
   "mimetype": "text/x-python",
   "name": "python",
   "nbconvert_exporter": "python",
   "pygments_lexer": "ipython3",
   "version": "3.7.5"
  }
 },
 "nbformat": 4,
 "nbformat_minor": 2
}
