{
 "cells": [
  {
   "cell_type": "code",
   "execution_count": 1,
   "metadata": {},
   "outputs": [],
   "source": [
    "import numpy\n",
    "import pandas as pd\n",
    "from gensim.models import Word2Vec\n",
    "from gensim.models import KeyedVectors"
   ]
  },
  {
   "cell_type": "code",
   "execution_count": 2,
   "metadata": {},
   "outputs": [],
   "source": [
    "model = KeyedVectors.load_word2vec_format('word_embeddings/model.bin', binary=True)"
   ]
  },
  {
   "cell_type": "code",
   "execution_count": 3,
   "metadata": {},
   "outputs": [],
   "source": [
    "wiki_json = pd.read_json(\"../crawlers/procon/wiki.json\")\n",
    "args_json = pd.read_json(\"../crawlers/procon/procon.json\")"
   ]
  },
  {
   "cell_type": "markdown",
   "metadata": {},
   "source": [
    "#### Format DataFrame rows"
   ]
  },
  {
   "cell_type": "code",
   "execution_count": 4,
   "metadata": {},
   "outputs": [],
   "source": [
    "def format_args_row(row):\n",
    "    df = row.apply(pd.Series).T\n",
    "    df.url = df.url[0]\n",
    "    df.topic = df.topic[0]\n",
    "    return(df)\n",
    "\n",
    "arg_df_series = args_json.apply(format_args_row, axis=1)\n",
    "args_df = pd.concat(arg_df_series.values.tolist(),ignore_index=True)"
   ]
  },
  {
   "cell_type": "code",
   "execution_count": 5,
   "metadata": {},
   "outputs": [],
   "source": [
    "def format_wiki_row(row):\n",
    "    df = row.apply(pd.Series).T\n",
    "    df.source = df.source[0]\n",
    "    df.title = df.title[0]\n",
    "    df.topic = df.topic[0]\n",
    "    return(df)\n",
    "\n",
    "wiki_df_series = wiki_json.apply(format_wiki_row, axis=1)\n",
    "wiki_df = pd.concat(wiki_df_series.values.tolist(),ignore_index=True)"
   ]
  },
  {
   "cell_type": "markdown",
   "metadata": {},
   "source": [
    "### Preprocess Text"
   ]
  },
  {
   "cell_type": "markdown",
   "metadata": {},
   "source": [
    "#### Create dataframe which will store the data"
   ]
  },
  {
   "cell_type": "code",
   "execution_count": 6,
   "metadata": {},
   "outputs": [],
   "source": [
    "wmd_df = args_df.merge(wiki_df)"
   ]
  },
  {
   "cell_type": "code",
   "execution_count": 7,
   "metadata": {},
   "outputs": [],
   "source": [
    "wmd_df = wmd_df.head()"
   ]
  },
  {
   "cell_type": "markdown",
   "metadata": {},
   "source": [
    "#### Lowercase and remove Stopwords"
   ]
  },
  {
   "cell_type": "code",
   "execution_count": 8,
   "metadata": {},
   "outputs": [
    {
     "name": "stderr",
     "output_type": "stream",
     "text": [
      "[nltk_data] Downloading package stopwords to /home/allan/nltk_data...\n",
      "[nltk_data]   Package stopwords is already up-to-date!\n"
     ]
    }
   ],
   "source": [
    "from nltk.corpus import stopwords\n",
    "from nltk import download\n",
    "download('stopwords') \n",
    "\n",
    "stop_words = stopwords.words('english')\n",
    "\n",
    "\n",
    "def preprocess_sentence(str_array):\n",
    "    new_sentences = []\n",
    "    for text in str_array: #wmd_df.argument:\n",
    "        new_sentence = []\n",
    "        for word in text.split():\n",
    "            if word not in stop_words:\n",
    "                new_sentence.append(word.lower())\n",
    "        new_sentences.append(new_sentence)\n",
    "    return(new_sentences)"
   ]
  },
  {
   "cell_type": "code",
   "execution_count": 9,
   "metadata": {},
   "outputs": [],
   "source": [
    "wmd_df = wmd_df.assign(argument_processed = preprocess_sentence(wmd_df.argument),\n",
    "                      content_processed = preprocess_sentence(wmd_df.content))"
   ]
  },
  {
   "cell_type": "markdown",
   "metadata": {},
   "source": [
    "#### Compute the WMD between arguments and each paragraph"
   ]
  },
  {
   "cell_type": "code",
   "execution_count": 10,
   "metadata": {},
   "outputs": [],
   "source": [
    "wmd_df['wmd'] = wmd_df.apply(lambda x: model.wmdistance(x.argument_processed, x.content_processed), axis=1)"
   ]
  },
  {
   "cell_type": "code",
   "execution_count": 11,
   "metadata": {},
   "outputs": [
    {
     "data": {
      "text/html": [
       "<div>\n",
       "<style scoped>\n",
       "    .dataframe tbody tr th:only-of-type {\n",
       "        vertical-align: middle;\n",
       "    }\n",
       "\n",
       "    .dataframe tbody tr th {\n",
       "        vertical-align: top;\n",
       "    }\n",
       "\n",
       "    .dataframe thead th {\n",
       "        text-align: right;\n",
       "    }\n",
       "</style>\n",
       "<table border=\"1\" class=\"dataframe\">\n",
       "  <thead>\n",
       "    <tr style=\"text-align: right;\">\n",
       "      <th></th>\n",
       "      <th>url</th>\n",
       "      <th>topic</th>\n",
       "      <th>pro_con</th>\n",
       "      <th>argument_topic</th>\n",
       "      <th>argument</th>\n",
       "      <th>argument_summary</th>\n",
       "      <th>source</th>\n",
       "      <th>title</th>\n",
       "      <th>content</th>\n",
       "      <th>argument_processed</th>\n",
       "      <th>content_processed</th>\n",
       "      <th>wmd</th>\n",
       "    </tr>\n",
       "  </thead>\n",
       "  <tbody>\n",
       "    <tr>\n",
       "      <th>0</th>\n",
       "      <td>https://euthanasia.procon.org/view.resource.ph...</td>\n",
       "      <td>Euthanasia</td>\n",
       "      <td>Pro 1</td>\n",
       "      <td>Legalization</td>\n",
       "      <td>The right to die should be a matter of persona...</td>\n",
       "      <td>NaN</td>\n",
       "      <td>conservapedia</td>\n",
       "      <td>Euthanasia</td>\n",
       "      <td>Euthanasia Society lists Margaret Sanger as a ...</td>\n",
       "      <td>[the, right, die, matter, personal, choice., w...</td>\n",
       "      <td>[euthanasia, society, lists, margaret, sanger,...</td>\n",
       "      <td>3.412289</td>\n",
       "    </tr>\n",
       "    <tr>\n",
       "      <th>1</th>\n",
       "      <td>https://euthanasia.procon.org/view.resource.ph...</td>\n",
       "      <td>Euthanasia</td>\n",
       "      <td>Pro 1</td>\n",
       "      <td>Legalization</td>\n",
       "      <td>The right to die should be a matter of persona...</td>\n",
       "      <td>NaN</td>\n",
       "      <td>conservapedia</td>\n",
       "      <td>Euthanasia</td>\n",
       "      <td>Euthanasia (from the Greek for good death) is ...</td>\n",
       "      <td>[the, right, die, matter, personal, choice., w...</td>\n",
       "      <td>[euthanasia, (from, greek, good, death), polit...</td>\n",
       "      <td>2.688866</td>\n",
       "    </tr>\n",
       "    <tr>\n",
       "      <th>2</th>\n",
       "      <td>https://euthanasia.procon.org/view.resource.ph...</td>\n",
       "      <td>Euthanasia</td>\n",
       "      <td>Pro 1</td>\n",
       "      <td>Legalization</td>\n",
       "      <td>The right to die should be a matter of persona...</td>\n",
       "      <td>NaN</td>\n",
       "      <td>conservapedia</td>\n",
       "      <td>Euthanasia</td>\n",
       "      <td>Most libertarians and many liberals support le...</td>\n",
       "      <td>[the, right, die, matter, personal, choice., w...</td>\n",
       "      <td>[most, libertarians, many, liberals, support, ...</td>\n",
       "      <td>2.668337</td>\n",
       "    </tr>\n",
       "    <tr>\n",
       "      <th>3</th>\n",
       "      <td>https://euthanasia.procon.org/view.resource.ph...</td>\n",
       "      <td>Euthanasia</td>\n",
       "      <td>Pro 1</td>\n",
       "      <td>Legalization</td>\n",
       "      <td>The right to die should be a matter of persona...</td>\n",
       "      <td>NaN</td>\n",
       "      <td>conservapedia</td>\n",
       "      <td>Euthanasia</td>\n",
       "      <td>The widely reported withdrawal of a feeding tu...</td>\n",
       "      <td>[the, right, die, matter, personal, choice., w...</td>\n",
       "      <td>[the, widely, reported, withdrawal, feeding, t...</td>\n",
       "      <td>2.767987</td>\n",
       "    </tr>\n",
       "    <tr>\n",
       "      <th>4</th>\n",
       "      <td>https://euthanasia.procon.org/view.resource.ph...</td>\n",
       "      <td>Euthanasia</td>\n",
       "      <td>Pro 1</td>\n",
       "      <td>Legalization</td>\n",
       "      <td>The right to die should be a matter of persona...</td>\n",
       "      <td>NaN</td>\n",
       "      <td>conservapedia</td>\n",
       "      <td>Euthanasia</td>\n",
       "      <td>Of recent concern are erroneous reports (July ...</td>\n",
       "      <td>[the, right, die, matter, personal, choice., w...</td>\n",
       "      <td>[of, recent, concern, erroneous, reports, (jul...</td>\n",
       "      <td>2.925021</td>\n",
       "    </tr>\n",
       "  </tbody>\n",
       "</table>\n",
       "</div>"
      ],
      "text/plain": [
       "                                                 url       topic pro_con  \\\n",
       "0  https://euthanasia.procon.org/view.resource.ph...  Euthanasia   Pro 1   \n",
       "1  https://euthanasia.procon.org/view.resource.ph...  Euthanasia   Pro 1   \n",
       "2  https://euthanasia.procon.org/view.resource.ph...  Euthanasia   Pro 1   \n",
       "3  https://euthanasia.procon.org/view.resource.ph...  Euthanasia   Pro 1   \n",
       "4  https://euthanasia.procon.org/view.resource.ph...  Euthanasia   Pro 1   \n",
       "\n",
       "  argument_topic                                           argument  \\\n",
       "0   Legalization  The right to die should be a matter of persona...   \n",
       "1   Legalization  The right to die should be a matter of persona...   \n",
       "2   Legalization  The right to die should be a matter of persona...   \n",
       "3   Legalization  The right to die should be a matter of persona...   \n",
       "4   Legalization  The right to die should be a matter of persona...   \n",
       "\n",
       "  argument_summary         source       title  \\\n",
       "0              NaN  conservapedia  Euthanasia   \n",
       "1              NaN  conservapedia  Euthanasia   \n",
       "2              NaN  conservapedia  Euthanasia   \n",
       "3              NaN  conservapedia  Euthanasia   \n",
       "4              NaN  conservapedia  Euthanasia   \n",
       "\n",
       "                                             content  \\\n",
       "0  Euthanasia Society lists Margaret Sanger as a ...   \n",
       "1  Euthanasia (from the Greek for good death) is ...   \n",
       "2  Most libertarians and many liberals support le...   \n",
       "3  The widely reported withdrawal of a feeding tu...   \n",
       "4  Of recent concern are erroneous reports (July ...   \n",
       "\n",
       "                                  argument_processed  \\\n",
       "0  [the, right, die, matter, personal, choice., w...   \n",
       "1  [the, right, die, matter, personal, choice., w...   \n",
       "2  [the, right, die, matter, personal, choice., w...   \n",
       "3  [the, right, die, matter, personal, choice., w...   \n",
       "4  [the, right, die, matter, personal, choice., w...   \n",
       "\n",
       "                                   content_processed       wmd  \n",
       "0  [euthanasia, society, lists, margaret, sanger,...  3.412289  \n",
       "1  [euthanasia, (from, greek, good, death), polit...  2.688866  \n",
       "2  [most, libertarians, many, liberals, support, ...  2.668337  \n",
       "3  [the, widely, reported, withdrawal, feeding, t...  2.767987  \n",
       "4  [of, recent, concern, erroneous, reports, (jul...  2.925021  "
      ]
     },
     "execution_count": 11,
     "metadata": {},
     "output_type": "execute_result"
    }
   ],
   "source": [
    "wmd_df"
   ]
  }
 ],
 "metadata": {
  "kernelspec": {
   "display_name": "Python 3",
   "language": "python",
   "name": "python3"
  },
  "language_info": {
   "codemirror_mode": {
    "name": "ipython",
    "version": 3
   },
   "file_extension": ".py",
   "mimetype": "text/x-python",
   "name": "python",
   "nbconvert_exporter": "python",
   "pygments_lexer": "ipython3",
   "version": "3.7.5"
  }
 },
 "nbformat": 4,
 "nbformat_minor": 2
}
